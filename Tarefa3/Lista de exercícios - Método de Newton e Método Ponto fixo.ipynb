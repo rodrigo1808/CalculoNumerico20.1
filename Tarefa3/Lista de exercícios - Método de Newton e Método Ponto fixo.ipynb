{
 "cells": [
  {
   "cell_type": "markdown",
   "metadata": {},
   "source": [
    "# Questão 1"
   ]
  },
  {
   "cell_type": "code",
   "execution_count": 2,
   "metadata": {},
   "outputs": [
    {
     "data": {
      "text/plain": [
       "newton"
      ]
     },
     "execution_count": 2,
     "metadata": {},
     "output_type": "execute_result"
    }
   ],
   "source": [
    "# Função da vídeo aula do Abel\n",
    "\"\"\"\n",
    "    (x, fx, exitflag) = newton(f, x)\n",
    "\"\"\"\n",
    "function newton(f, fd, x;\n",
    "                atol = 1e-8, rtol = 1e-8,\n",
    "                max_tempo = 10.0, max_iter = 1000,\n",
    "                )\n",
    "    fx = f(x)\n",
    "    ϵ = atol + rtol * abs(fx)\n",
    "    iter = 0\n",
    "    t0 = time()\n",
    "    Δt = time() - t0\n",
    "    \n",
    "    exitflag = :desconhecido\n",
    "    resolvido = (abs(fx) ≤ ϵ)\n",
    "    cansado   = (iter ≥ max_iter || Δt ≥ max_tempo)\n",
    "    \n",
    "    while !(resolvido || cansado)\n",
    "        fdx = fd(x)\n",
    "        if abs(fdx) ≤ ϵ\n",
    "            exitflag = :derivada_nula\n",
    "            break\n",
    "        end\n",
    "        x = x - fx / fdx\n",
    "        fx = f(x)\n",
    "        #println(x, ' ', fx)\n",
    "        \n",
    "        iter += 1\n",
    "        Δt = time() - t0\n",
    "        resolvido = (abs(fx) ≤ ϵ)\n",
    "        cansado   = (iter ≥ max_iter || Δt ≥ max_tempo)\n",
    "    end\n",
    "    \n",
    "    if resolvido\n",
    "        exitflag = :sucesso\n",
    "    elseif cansado\n",
    "        if iter ≥ max_iter\n",
    "            exitflag = :max_iter\n",
    "        else\n",
    "            exitflag = :max_tempo\n",
    "        end\n",
    "    end\n",
    "    \n",
    "    println(\"num de iterações: \", iter)\n",
    "    \n",
    "    return x, fx, exitflag\n",
    "end"
   ]
  },
  {
   "cell_type": "markdown",
   "metadata": {},
   "source": [
    "### (a)"
   ]
  },
  {
   "cell_type": "markdown",
   "metadata": {},
   "source": [
    "Para descobrirmos uma função que não ache nenhum zero no método de newton para qualquer x0 escolhido, apesar de ser contínua e possuir um, precisamos escolher uma função que ao se aproximar de zero vai se tornando menos \"derivável\", até chegar num ponto de não ser mais."
   ]
  },
  {
   "cell_type": "markdown",
   "metadata": {},
   "source": [
    "Uma função em que isso acontece é a $f\\left(x\\right)=\\sqrt[3]{x}$ pois sua derivada $\\frac{1}{3x^{\\frac{2}{3}}}$ é indefinida quando $x = 0$"
   ]
  },
  {
   "cell_type": "code",
   "execution_count": 3,
   "metadata": {},
   "outputs": [
    {
     "data": {
      "image/svg+xml": [
       "<?xml version=\"1.0\" encoding=\"utf-8\"?>\n",
       "<svg xmlns=\"http://www.w3.org/2000/svg\" xmlns:xlink=\"http://www.w3.org/1999/xlink\" width=\"600\" height=\"400\" viewBox=\"0 0 2400 1600\">\n",
       "<defs>\n",
       "  <clipPath id=\"clip180\">\n",
       "    <rect x=\"0\" y=\"0\" width=\"2400\" height=\"1600\"/>\n",
       "  </clipPath>\n",
       "</defs>\n",
       "<path clip-path=\"url(#clip180)\" d=\"\n",
       "M0 1600 L2400 1600 L2400 0 L0 0  Z\n",
       "  \" fill=\"#ffffff\" fill-rule=\"evenodd\" fill-opacity=\"1\"/>\n",
       "<defs>\n",
       "  <clipPath id=\"clip181\">\n",
       "    <rect x=\"480\" y=\"0\" width=\"1681\" height=\"1600\"/>\n",
       "  </clipPath>\n",
       "</defs>\n",
       "<path clip-path=\"url(#clip180)\" d=\"\n",
       "M179.654 1486.45 L2352.76 1486.45 L2352.76 47.2441 L179.654 47.2441  Z\n",
       "  \" fill=\"#ffffff\" fill-rule=\"evenodd\" fill-opacity=\"1\"/>\n",
       "<defs>\n",
       "  <clipPath id=\"clip182\">\n",
       "    <rect x=\"179\" y=\"47\" width=\"2174\" height=\"1440\"/>\n",
       "  </clipPath>\n",
       "</defs>\n",
       "<polyline clip-path=\"url(#clip182)\" style=\"stroke:#000000; stroke-width:2; stroke-opacity:0.1; fill:none\" points=\"\n",
       "  446.166,1486.45 446.166,47.2441 \n",
       "  \"/>\n",
       "<polyline clip-path=\"url(#clip182)\" style=\"stroke:#000000; stroke-width:2; stroke-opacity:0.1; fill:none\" points=\"\n",
       "  856.185,1486.45 856.185,47.2441 \n",
       "  \"/>\n",
       "<polyline clip-path=\"url(#clip182)\" style=\"stroke:#000000; stroke-width:2; stroke-opacity:0.1; fill:none\" points=\"\n",
       "  1266.2,1486.45 1266.2,47.2441 \n",
       "  \"/>\n",
       "<polyline clip-path=\"url(#clip182)\" style=\"stroke:#000000; stroke-width:2; stroke-opacity:0.1; fill:none\" points=\"\n",
       "  1676.22,1486.45 1676.22,47.2441 \n",
       "  \"/>\n",
       "<polyline clip-path=\"url(#clip182)\" style=\"stroke:#000000; stroke-width:2; stroke-opacity:0.1; fill:none\" points=\"\n",
       "  2086.24,1486.45 2086.24,47.2441 \n",
       "  \"/>\n",
       "<polyline clip-path=\"url(#clip180)\" style=\"stroke:#000000; stroke-width:4; stroke-opacity:1; fill:none\" points=\"\n",
       "  179.654,1486.45 2352.76,1486.45 \n",
       "  \"/>\n",
       "<polyline clip-path=\"url(#clip180)\" style=\"stroke:#000000; stroke-width:4; stroke-opacity:1; fill:none\" points=\"\n",
       "  446.166,1486.45 446.166,1469.18 \n",
       "  \"/>\n",
       "<polyline clip-path=\"url(#clip180)\" style=\"stroke:#000000; stroke-width:4; stroke-opacity:1; fill:none\" points=\"\n",
       "  856.185,1486.45 856.185,1469.18 \n",
       "  \"/>\n",
       "<polyline clip-path=\"url(#clip180)\" style=\"stroke:#000000; stroke-width:4; stroke-opacity:1; fill:none\" points=\"\n",
       "  1266.2,1486.45 1266.2,1469.18 \n",
       "  \"/>\n",
       "<polyline clip-path=\"url(#clip180)\" style=\"stroke:#000000; stroke-width:4; stroke-opacity:1; fill:none\" points=\"\n",
       "  1676.22,1486.45 1676.22,1469.18 \n",
       "  \"/>\n",
       "<polyline clip-path=\"url(#clip180)\" style=\"stroke:#000000; stroke-width:4; stroke-opacity:1; fill:none\" points=\"\n",
       "  2086.24,1486.45 2086.24,1469.18 \n",
       "  \"/>\n",
       "<path clip-path=\"url(#clip180)\" d=\"M 0 0 M417.578 1530.29 L447.254 1530.29 L447.254 1534.23 L417.578 1534.23 L417.578 1530.29 Z\" fill=\"#000000\" fill-rule=\"evenodd\" fill-opacity=\"1\" /><path clip-path=\"url(#clip180)\" d=\"M 0 0 M465.171 1516.63 L453.365 1535.08 L465.171 1535.08 L465.171 1516.63 M463.944 1512.56 L469.823 1512.56 L469.823 1535.08 L474.754 1535.08 L474.754 1538.97 L469.823 1538.97 L469.823 1547.12 L465.171 1547.12 L465.171 1538.97 L449.569 1538.97 L449.569 1534.46 L463.944 1512.56 Z\" fill=\"#000000\" fill-rule=\"evenodd\" fill-opacity=\"1\" /><path clip-path=\"url(#clip180)\" d=\"M 0 0 M828.639 1530.29 L858.315 1530.29 L858.315 1534.23 L828.639 1534.23 L828.639 1530.29 Z\" fill=\"#000000\" fill-rule=\"evenodd\" fill-opacity=\"1\" /><path clip-path=\"url(#clip180)\" d=\"M 0 0 M867.412 1543.18 L883.732 1543.18 L883.732 1547.12 L861.787 1547.12 L861.787 1543.18 Q864.449 1540.43 869.033 1535.8 Q873.639 1531.15 874.82 1529.81 Q877.065 1527.28 877.945 1525.55 Q878.847 1523.79 878.847 1522.1 Q878.847 1519.34 876.903 1517.61 Q874.982 1515.87 871.88 1515.87 Q869.681 1515.87 867.227 1516.63 Q864.797 1517.4 862.019 1518.95 L862.019 1514.23 Q864.843 1513.09 867.297 1512.51 Q869.75 1511.93 871.787 1511.93 Q877.158 1511.93 880.352 1514.62 Q883.546 1517.31 883.546 1521.8 Q883.546 1523.93 882.736 1525.85 Q881.949 1527.74 879.843 1530.34 Q879.264 1531.01 876.162 1534.23 Q873.06 1537.42 867.412 1543.18 Z\" fill=\"#000000\" fill-rule=\"evenodd\" fill-opacity=\"1\" /><path clip-path=\"url(#clip180)\" d=\"M 0 0 M1266.2 1515.64 Q1262.59 1515.64 1260.77 1519.2 Q1258.96 1522.75 1258.96 1529.87 Q1258.96 1536.98 1260.77 1540.55 Q1262.59 1544.09 1266.2 1544.09 Q1269.84 1544.09 1271.64 1540.55 Q1273.47 1536.98 1273.47 1529.87 Q1273.47 1522.75 1271.64 1519.2 Q1269.84 1515.64 1266.2 1515.64 M1266.2 1511.93 Q1272.01 1511.93 1275.07 1516.54 Q1278.15 1521.12 1278.15 1529.87 Q1278.15 1538.6 1275.07 1543.21 Q1272.01 1547.79 1266.2 1547.79 Q1260.39 1547.79 1257.32 1543.21 Q1254.26 1538.6 1254.26 1529.87 Q1254.26 1521.12 1257.32 1516.54 Q1260.39 1511.93 1266.2 1511.93 Z\" fill=\"#000000\" fill-rule=\"evenodd\" fill-opacity=\"1\" /><path clip-path=\"url(#clip180)\" d=\"M 0 0 M1670.88 1543.18 L1687.2 1543.18 L1687.2 1547.12 L1665.25 1547.12 L1665.25 1543.18 Q1667.91 1540.43 1672.5 1535.8 Q1677.1 1531.15 1678.28 1529.81 Q1680.53 1527.28 1681.41 1525.55 Q1682.31 1523.79 1682.31 1522.1 Q1682.31 1519.34 1680.37 1517.61 Q1678.45 1515.87 1675.34 1515.87 Q1673.15 1515.87 1670.69 1516.63 Q1668.26 1517.4 1665.48 1518.95 L1665.48 1514.23 Q1668.31 1513.09 1670.76 1512.51 Q1673.21 1511.93 1675.25 1511.93 Q1680.62 1511.93 1683.82 1514.62 Q1687.01 1517.31 1687.01 1521.8 Q1687.01 1523.93 1686.2 1525.85 Q1685.41 1527.74 1683.31 1530.34 Q1682.73 1531.01 1679.63 1534.23 Q1676.53 1537.42 1670.88 1543.18 Z\" fill=\"#000000\" fill-rule=\"evenodd\" fill-opacity=\"1\" /><path clip-path=\"url(#clip180)\" d=\"M 0 0 M2089.25 1516.63 L2077.45 1535.08 L2089.25 1535.08 L2089.25 1516.63 M2088.03 1512.56 L2093.91 1512.56 L2093.91 1535.08 L2098.84 1535.08 L2098.84 1538.97 L2093.91 1538.97 L2093.91 1547.12 L2089.25 1547.12 L2089.25 1538.97 L2073.65 1538.97 L2073.65 1534.46 L2088.03 1512.56 Z\" fill=\"#000000\" fill-rule=\"evenodd\" fill-opacity=\"1\" /><polyline clip-path=\"url(#clip182)\" style=\"stroke:#000000; stroke-width:2; stroke-opacity:0.1; fill:none\" points=\"\n",
       "  179.654,1472.9 2352.76,1472.9 \n",
       "  \"/>\n",
       "<polyline clip-path=\"url(#clip182)\" style=\"stroke:#000000; stroke-width:2; stroke-opacity:0.1; fill:none\" points=\"\n",
       "  179.654,1237.55 2352.76,1237.55 \n",
       "  \"/>\n",
       "<polyline clip-path=\"url(#clip182)\" style=\"stroke:#000000; stroke-width:2; stroke-opacity:0.1; fill:none\" points=\"\n",
       "  179.654,1002.2 2352.76,1002.2 \n",
       "  \"/>\n",
       "<polyline clip-path=\"url(#clip182)\" style=\"stroke:#000000; stroke-width:2; stroke-opacity:0.1; fill:none\" points=\"\n",
       "  179.654,766.846 2352.76,766.846 \n",
       "  \"/>\n",
       "<polyline clip-path=\"url(#clip182)\" style=\"stroke:#000000; stroke-width:2; stroke-opacity:0.1; fill:none\" points=\"\n",
       "  179.654,531.495 2352.76,531.495 \n",
       "  \"/>\n",
       "<polyline clip-path=\"url(#clip182)\" style=\"stroke:#000000; stroke-width:2; stroke-opacity:0.1; fill:none\" points=\"\n",
       "  179.654,296.144 2352.76,296.144 \n",
       "  \"/>\n",
       "<polyline clip-path=\"url(#clip182)\" style=\"stroke:#000000; stroke-width:2; stroke-opacity:0.1; fill:none\" points=\"\n",
       "  179.654,60.793 2352.76,60.793 \n",
       "  \"/>\n",
       "<polyline clip-path=\"url(#clip180)\" style=\"stroke:#000000; stroke-width:4; stroke-opacity:1; fill:none\" points=\"\n",
       "  179.654,1486.45 179.654,47.2441 \n",
       "  \"/>\n",
       "<polyline clip-path=\"url(#clip180)\" style=\"stroke:#000000; stroke-width:4; stroke-opacity:1; fill:none\" points=\"\n",
       "  179.654,1472.9 205.731,1472.9 \n",
       "  \"/>\n",
       "<polyline clip-path=\"url(#clip180)\" style=\"stroke:#000000; stroke-width:4; stroke-opacity:1; fill:none\" points=\"\n",
       "  179.654,1237.55 205.731,1237.55 \n",
       "  \"/>\n",
       "<polyline clip-path=\"url(#clip180)\" style=\"stroke:#000000; stroke-width:4; stroke-opacity:1; fill:none\" points=\"\n",
       "  179.654,1002.2 205.731,1002.2 \n",
       "  \"/>\n",
       "<polyline clip-path=\"url(#clip180)\" style=\"stroke:#000000; stroke-width:4; stroke-opacity:1; fill:none\" points=\"\n",
       "  179.654,766.846 205.731,766.846 \n",
       "  \"/>\n",
       "<polyline clip-path=\"url(#clip180)\" style=\"stroke:#000000; stroke-width:4; stroke-opacity:1; fill:none\" points=\"\n",
       "  179.654,531.495 205.731,531.495 \n",
       "  \"/>\n",
       "<polyline clip-path=\"url(#clip180)\" style=\"stroke:#000000; stroke-width:4; stroke-opacity:1; fill:none\" points=\"\n",
       "  179.654,296.144 205.731,296.144 \n",
       "  \"/>\n",
       "<polyline clip-path=\"url(#clip180)\" style=\"stroke:#000000; stroke-width:4; stroke-opacity:1; fill:none\" points=\"\n",
       "  179.654,60.793 205.731,60.793 \n",
       "  \"/>\n",
       "<path clip-path=\"url(#clip180)\" d=\"M 0 0 M52.219 1473.35 L81.8947 1473.35 L81.8947 1477.29 L52.219 1477.29 L52.219 1473.35 Z\" fill=\"#000000\" fill-rule=\"evenodd\" fill-opacity=\"1\" /><path clip-path=\"url(#clip180)\" d=\"M 0 0 M87.7743 1486.24 L95.4132 1486.24 L95.4132 1459.88 L87.103 1461.54 L87.103 1457.29 L95.3669 1455.62 L100.043 1455.62 L100.043 1486.24 L107.682 1486.24 L107.682 1490.18 L87.7743 1490.18 L87.7743 1486.24 Z\" fill=\"#000000\" fill-rule=\"evenodd\" fill-opacity=\"1\" /><path clip-path=\"url(#clip180)\" d=\"M 0 0 M112.751 1484.3 L117.635 1484.3 L117.635 1490.18 L112.751 1490.18 L112.751 1484.3 Z\" fill=\"#000000\" fill-rule=\"evenodd\" fill-opacity=\"1\" /><path clip-path=\"url(#clip180)\" d=\"M 0 0 M122.751 1455.62 L141.107 1455.62 L141.107 1459.55 L127.033 1459.55 L127.033 1468.03 Q128.052 1467.68 129.07 1467.52 Q130.089 1467.33 131.107 1467.33 Q136.894 1467.33 140.274 1470.5 Q143.654 1473.67 143.654 1479.09 Q143.654 1484.67 140.181 1487.77 Q136.709 1490.85 130.39 1490.85 Q128.214 1490.85 125.945 1490.48 Q123.7 1490.11 121.293 1489.37 L121.293 1484.67 Q123.376 1485.8 125.598 1486.36 Q127.82 1486.92 130.297 1486.92 Q134.302 1486.92 136.64 1484.81 Q138.978 1482.7 138.978 1479.09 Q138.978 1475.48 136.64 1473.37 Q134.302 1471.27 130.297 1471.27 Q128.422 1471.27 126.547 1471.68 Q124.695 1472.1 122.751 1472.98 L122.751 1455.62 Z\" fill=\"#000000\" fill-rule=\"evenodd\" fill-opacity=\"1\" /><path clip-path=\"url(#clip180)\" d=\"M 0 0 M51.2236 1238 L80.8994 1238 L80.8994 1241.93 L51.2236 1241.93 L51.2236 1238 Z\" fill=\"#000000\" fill-rule=\"evenodd\" fill-opacity=\"1\" /><path clip-path=\"url(#clip180)\" d=\"M 0 0 M86.779 1250.89 L94.4178 1250.89 L94.4178 1224.53 L86.1077 1226.19 L86.1077 1221.93 L94.3715 1220.27 L99.0474 1220.27 L99.0474 1250.89 L106.686 1250.89 L106.686 1254.83 L86.779 1254.83 L86.779 1250.89 Z\" fill=\"#000000\" fill-rule=\"evenodd\" fill-opacity=\"1\" /><path clip-path=\"url(#clip180)\" d=\"M 0 0 M111.756 1248.95 L116.64 1248.95 L116.64 1254.83 L111.756 1254.83 L111.756 1248.95 Z\" fill=\"#000000\" fill-rule=\"evenodd\" fill-opacity=\"1\" /><path clip-path=\"url(#clip180)\" d=\"M 0 0 M131.709 1223.35 Q128.098 1223.35 126.27 1226.91 Q124.464 1230.45 124.464 1237.58 Q124.464 1244.69 126.27 1248.25 Q128.098 1251.8 131.709 1251.8 Q135.344 1251.8 137.149 1248.25 Q138.978 1244.69 138.978 1237.58 Q138.978 1230.45 137.149 1226.91 Q135.344 1223.35 131.709 1223.35 M131.709 1219.64 Q137.519 1219.64 140.575 1224.25 Q143.654 1228.83 143.654 1237.58 Q143.654 1246.31 140.575 1250.92 Q137.519 1255.5 131.709 1255.5 Q125.899 1255.5 122.82 1250.92 Q119.765 1246.31 119.765 1237.58 Q119.765 1228.83 122.82 1224.25 Q125.899 1219.64 131.709 1219.64 Z\" fill=\"#000000\" fill-rule=\"evenodd\" fill-opacity=\"1\" /><path clip-path=\"url(#clip180)\" d=\"M 0 0 M50.9921 1002.65 L80.6679 1002.65 L80.6679 1006.58 L50.9921 1006.58 L50.9921 1002.65 Z\" fill=\"#000000\" fill-rule=\"evenodd\" fill-opacity=\"1\" /><path clip-path=\"url(#clip180)\" d=\"M 0 0 M95.7373 987.996 Q92.1262 987.996 90.2975 991.56 Q88.4919 995.102 88.4919 1002.23 Q88.4919 1009.34 90.2975 1012.9 Q92.1262 1016.44 95.7373 1016.44 Q99.3715 1016.44 101.177 1012.9 Q103.006 1009.34 103.006 1002.23 Q103.006 995.102 101.177 991.56 Q99.3715 987.996 95.7373 987.996 M95.7373 984.292 Q101.547 984.292 104.603 988.898 Q107.682 993.482 107.682 1002.23 Q107.682 1010.96 104.603 1015.56 Q101.547 1020.15 95.7373 1020.15 Q89.9271 1020.15 86.8484 1015.56 Q83.7929 1010.96 83.7929 1002.23 Q83.7929 993.482 86.8484 988.898 Q89.9271 984.292 95.7373 984.292 Z\" fill=\"#000000\" fill-rule=\"evenodd\" fill-opacity=\"1\" /><path clip-path=\"url(#clip180)\" d=\"M 0 0 M112.751 1013.6 L117.635 1013.6 L117.635 1019.48 L112.751 1019.48 L112.751 1013.6 Z\" fill=\"#000000\" fill-rule=\"evenodd\" fill-opacity=\"1\" /><path clip-path=\"url(#clip180)\" d=\"M 0 0 M122.751 984.917 L141.107 984.917 L141.107 988.852 L127.033 988.852 L127.033 997.324 Q128.052 996.977 129.07 996.815 Q130.089 996.63 131.107 996.63 Q136.894 996.63 140.274 999.801 Q143.654 1002.97 143.654 1008.39 Q143.654 1013.97 140.181 1017.07 Q136.709 1020.15 130.39 1020.15 Q128.214 1020.15 125.945 1019.78 Q123.7 1019.41 121.293 1018.67 L121.293 1013.97 Q123.376 1015.1 125.598 1015.66 Q127.82 1016.21 130.297 1016.21 Q134.302 1016.21 136.64 1014.11 Q138.978 1012 138.978 1008.39 Q138.978 1004.78 136.64 1002.67 Q134.302 1000.57 130.297 1000.57 Q128.422 1000.57 126.547 1000.98 Q124.695 1001.4 122.751 1002.28 L122.751 984.917 Z\" fill=\"#000000\" fill-rule=\"evenodd\" fill-opacity=\"1\" /><path clip-path=\"url(#clip180)\" d=\"M 0 0 M94.7419 752.645 Q91.1308 752.645 89.3021 756.209 Q87.4966 759.751 87.4966 766.881 Q87.4966 773.987 89.3021 777.552 Q91.1308 781.094 94.7419 781.094 Q98.3761 781.094 100.182 777.552 Q102.01 773.987 102.01 766.881 Q102.01 759.751 100.182 756.209 Q98.3761 752.645 94.7419 752.645 M94.7419 748.941 Q100.552 748.941 103.608 753.547 Q106.686 758.131 106.686 766.881 Q106.686 775.608 103.608 780.214 Q100.552 784.797 94.7419 784.797 Q88.9317 784.797 85.8531 780.214 Q82.7975 775.608 82.7975 766.881 Q82.7975 758.131 85.8531 753.547 Q88.9317 748.941 94.7419 748.941 Z\" fill=\"#000000\" fill-rule=\"evenodd\" fill-opacity=\"1\" /><path clip-path=\"url(#clip180)\" d=\"M 0 0 M111.756 778.246 L116.64 778.246 L116.64 784.126 L111.756 784.126 L111.756 778.246 Z\" fill=\"#000000\" fill-rule=\"evenodd\" fill-opacity=\"1\" /><path clip-path=\"url(#clip180)\" d=\"M 0 0 M131.709 752.645 Q128.098 752.645 126.27 756.209 Q124.464 759.751 124.464 766.881 Q124.464 773.987 126.27 777.552 Q128.098 781.094 131.709 781.094 Q135.344 781.094 137.149 777.552 Q138.978 773.987 138.978 766.881 Q138.978 759.751 137.149 756.209 Q135.344 752.645 131.709 752.645 M131.709 748.941 Q137.519 748.941 140.575 753.547 Q143.654 758.131 143.654 766.881 Q143.654 775.608 140.575 780.214 Q137.519 784.797 131.709 784.797 Q125.899 784.797 122.82 780.214 Q119.765 775.608 119.765 766.881 Q119.765 758.131 122.82 753.547 Q125.899 748.941 131.709 748.941 Z\" fill=\"#000000\" fill-rule=\"evenodd\" fill-opacity=\"1\" /><path clip-path=\"url(#clip180)\" d=\"M 0 0 M95.7373 517.294 Q92.1262 517.294 90.2975 520.858 Q88.4919 524.4 88.4919 531.53 Q88.4919 538.636 90.2975 542.201 Q92.1262 545.743 95.7373 545.743 Q99.3715 545.743 101.177 542.201 Q103.006 538.636 103.006 531.53 Q103.006 524.4 101.177 520.858 Q99.3715 517.294 95.7373 517.294 M95.7373 513.59 Q101.547 513.59 104.603 518.196 Q107.682 522.78 107.682 531.53 Q107.682 540.257 104.603 544.863 Q101.547 549.446 95.7373 549.446 Q89.9271 549.446 86.8484 544.863 Q83.7929 540.257 83.7929 531.53 Q83.7929 522.78 86.8484 518.196 Q89.9271 513.59 95.7373 513.59 Z\" fill=\"#000000\" fill-rule=\"evenodd\" fill-opacity=\"1\" /><path clip-path=\"url(#clip180)\" d=\"M 0 0 M112.751 542.895 L117.635 542.895 L117.635 548.775 L112.751 548.775 L112.751 542.895 Z\" fill=\"#000000\" fill-rule=\"evenodd\" fill-opacity=\"1\" /><path clip-path=\"url(#clip180)\" d=\"M 0 0 M122.751 514.215 L141.107 514.215 L141.107 518.15 L127.033 518.15 L127.033 526.622 Q128.052 526.275 129.07 526.113 Q130.089 525.928 131.107 525.928 Q136.894 525.928 140.274 529.099 Q143.654 532.27 143.654 537.687 Q143.654 543.266 140.181 546.368 Q136.709 549.446 130.39 549.446 Q128.214 549.446 125.945 549.076 Q123.7 548.706 121.293 547.965 L121.293 543.266 Q123.376 544.4 125.598 544.956 Q127.82 545.511 130.297 545.511 Q134.302 545.511 136.64 543.405 Q138.978 541.298 138.978 537.687 Q138.978 534.076 136.64 531.97 Q134.302 529.863 130.297 529.863 Q128.422 529.863 126.547 530.28 Q124.695 530.696 122.751 531.576 L122.751 514.215 Z\" fill=\"#000000\" fill-rule=\"evenodd\" fill-opacity=\"1\" /><path clip-path=\"url(#clip180)\" d=\"M 0 0 M86.779 309.489 L94.4178 309.489 L94.4178 283.123 L86.1077 284.79 L86.1077 280.531 L94.3715 278.864 L99.0474 278.864 L99.0474 309.489 L106.686 309.489 L106.686 313.424 L86.779 313.424 L86.779 309.489 Z\" fill=\"#000000\" fill-rule=\"evenodd\" fill-opacity=\"1\" /><path clip-path=\"url(#clip180)\" d=\"M 0 0 M111.756 307.544 L116.64 307.544 L116.64 313.424 L111.756 313.424 L111.756 307.544 Z\" fill=\"#000000\" fill-rule=\"evenodd\" fill-opacity=\"1\" /><path clip-path=\"url(#clip180)\" d=\"M 0 0 M131.709 281.943 Q128.098 281.943 126.27 285.508 Q124.464 289.049 124.464 296.179 Q124.464 303.285 126.27 306.85 Q128.098 310.392 131.709 310.392 Q135.344 310.392 137.149 306.85 Q138.978 303.285 138.978 296.179 Q138.978 289.049 137.149 285.508 Q135.344 281.943 131.709 281.943 M131.709 278.239 Q137.519 278.239 140.575 282.845 Q143.654 287.429 143.654 296.179 Q143.654 304.906 140.575 309.512 Q137.519 314.095 131.709 314.095 Q125.899 314.095 122.82 309.512 Q119.765 304.906 119.765 296.179 Q119.765 287.429 122.82 282.845 Q125.899 278.239 131.709 278.239 Z\" fill=\"#000000\" fill-rule=\"evenodd\" fill-opacity=\"1\" /><path clip-path=\"url(#clip180)\" d=\"M 0 0 M87.7743 74.1379 L95.4132 74.1379 L95.4132 47.7723 L87.103 49.4389 L87.103 45.1797 L95.3669 43.513 L100.043 43.513 L100.043 74.1379 L107.682 74.1379 L107.682 78.073 L87.7743 78.073 L87.7743 74.1379 Z\" fill=\"#000000\" fill-rule=\"evenodd\" fill-opacity=\"1\" /><path clip-path=\"url(#clip180)\" d=\"M 0 0 M112.751 72.1934 L117.635 72.1934 L117.635 78.073 L112.751 78.073 L112.751 72.1934 Z\" fill=\"#000000\" fill-rule=\"evenodd\" fill-opacity=\"1\" /><path clip-path=\"url(#clip180)\" d=\"M 0 0 M122.751 43.513 L141.107 43.513 L141.107 47.4482 L127.033 47.4482 L127.033 55.9204 Q128.052 55.5732 129.07 55.4111 Q130.089 55.2259 131.107 55.2259 Q136.894 55.2259 140.274 58.3972 Q143.654 61.5685 143.654 66.9851 Q143.654 72.5638 140.181 75.6656 Q136.709 78.7443 130.39 78.7443 Q128.214 78.7443 125.945 78.374 Q123.7 78.0036 121.293 77.2629 L121.293 72.5638 Q123.376 73.6981 125.598 74.2536 Q127.82 74.8092 130.297 74.8092 Q134.302 74.8092 136.64 72.7027 Q138.978 70.5962 138.978 66.9851 Q138.978 63.374 136.64 61.2676 Q134.302 59.1611 130.297 59.1611 Q128.422 59.1611 126.547 59.5778 Q124.695 59.9944 122.751 60.8741 L122.751 43.513 Z\" fill=\"#000000\" fill-rule=\"evenodd\" fill-opacity=\"1\" /><polyline clip-path=\"url(#clip182)\" style=\"stroke:#009af9; stroke-width:4; stroke-opacity:1; fill:none\" points=\"\n",
       "  651.176,1445.72 663.188,1441.27 774.261,1397.02 841.012,1367.12 897.448,1339.29 958.754,1305.63 1015.27,1270.35 1075.87,1226.04 1146.07,1160.74 1177.27,1123.18 \n",
       "  1208.46,1075.4 1222.14,1048.81 1235.81,1015.96 1242.65,995.666 1249.49,970.943 1252.91,955.95 1256.33,938.105 1258.04,927.588 1259.75,915.478 1261.46,900.989 \n",
       "  1263.17,882.428 1264.1,869.127 1265.03,850.996 1265.5,837.906 1265.97,816.411 1266.43,718.176 1266.9,696.216 1267.36,683.002 1267.83,673.002 1268.3,664.772 \n",
       "  1268.76,657.691 1269.69,645.775 1270.63,635.832 1274.35,606.207 1278.08,584.714 1285.54,552.597 1292.99,527.989 1307.91,490.023 1322.82,460.326 1352.82,413.649 \n",
       "  1382.82,376.838 1449.16,313.667 1512.28,266.606 1577.91,225.588 1633.16,195.333 1700.61,162.266 1764.02,134.176 1865.6,93.7776 1881.23,87.9763 \n",
       "  \"/>\n",
       "<polyline clip-path=\"url(#clip182)\" style=\"stroke:#e26f46; stroke-width:4; stroke-opacity:1; fill:none\" points=\"\n",
       "  241.157,766.846 261.177,766.846 446.299,766.846 557.55,766.846 651.611,766.846 753.787,766.846 847.985,766.846 948.975,766.846 1065.98,766.846 1169.96,766.846 \n",
       "  1261.15,766.846 1360.56,766.846 1460.56,766.846 1571.13,766.846 1676.33,766.846 1785.72,766.846 1877.8,766.846 1990.22,766.846 2095.9,766.846 2265.2,766.846 \n",
       "  2291.25,766.846 \n",
       "  \"/>\n",
       "<path clip-path=\"url(#clip180)\" d=\"\n",
       "M1987.85 276.658 L2280.32 276.658 L2280.32 95.2176 L1987.85 95.2176  Z\n",
       "  \" fill=\"#ffffff\" fill-rule=\"evenodd\" fill-opacity=\"1\"/>\n",
       "<polyline clip-path=\"url(#clip180)\" style=\"stroke:#000000; stroke-width:4; stroke-opacity:1; fill:none\" points=\"\n",
       "  1987.85,276.658 2280.32,276.658 2280.32,95.2176 1987.85,95.2176 1987.85,276.658 \n",
       "  \"/>\n",
       "<polyline clip-path=\"url(#clip180)\" style=\"stroke:#009af9; stroke-width:4; stroke-opacity:1; fill:none\" points=\"\n",
       "  2011.99,155.698 2156.86,155.698 \n",
       "  \"/>\n",
       "<path clip-path=\"url(#clip180)\" d=\"M 0 0 M2194.85 175.385 Q2193.05 180.015 2191.33 181.427 Q2189.62 182.839 2186.75 182.839 L2183.35 182.839 L2183.35 179.274 L2185.85 179.274 Q2187.61 179.274 2188.58 178.44 Q2189.55 177.607 2190.73 174.505 L2191.5 172.561 L2181.01 147.052 L2185.52 147.052 L2193.63 167.329 L2201.73 147.052 L2206.24 147.052 L2194.85 175.385 Z\" fill=\"#000000\" fill-rule=\"evenodd\" fill-opacity=\"1\" /><path clip-path=\"url(#clip180)\" d=\"M 0 0 M2212.12 169.042 L2219.76 169.042 L2219.76 142.677 L2211.45 144.343 L2211.45 140.084 L2219.71 138.418 L2224.39 138.418 L2224.39 169.042 L2232.03 169.042 L2232.03 172.978 L2212.12 172.978 L2212.12 169.042 Z\" fill=\"#000000\" fill-rule=\"evenodd\" fill-opacity=\"1\" /><polyline clip-path=\"url(#clip180)\" style=\"stroke:#e26f46; stroke-width:4; stroke-opacity:1; fill:none\" points=\"\n",
       "  2011.99,216.178 2156.86,216.178 \n",
       "  \"/>\n",
       "<path clip-path=\"url(#clip180)\" d=\"M 0 0 M2194.85 235.865 Q2193.05 240.495 2191.33 241.907 Q2189.62 243.319 2186.75 243.319 L2183.35 243.319 L2183.35 239.754 L2185.85 239.754 Q2187.61 239.754 2188.58 238.92 Q2189.55 238.087 2190.73 234.985 L2191.5 233.041 L2181.01 207.532 L2185.52 207.532 L2193.63 227.809 L2201.73 207.532 L2206.24 207.532 L2194.85 235.865 Z\" fill=\"#000000\" fill-rule=\"evenodd\" fill-opacity=\"1\" /><path clip-path=\"url(#clip180)\" d=\"M 0 0 M2215.34 229.522 L2231.66 229.522 L2231.66 233.458 L2209.71 233.458 L2209.71 229.522 Q2212.38 226.768 2216.96 222.138 Q2221.57 217.485 2222.75 216.143 Q2224.99 213.62 2225.87 211.884 Q2226.77 210.124 2226.77 208.435 Q2226.77 205.68 2224.83 203.944 Q2222.91 202.208 2219.81 202.208 Q2217.61 202.208 2215.15 202.972 Q2212.72 203.735 2209.94 205.286 L2209.94 200.564 Q2212.77 199.43 2215.22 198.851 Q2217.68 198.273 2219.71 198.273 Q2225.08 198.273 2228.28 200.958 Q2231.47 203.643 2231.47 208.134 Q2231.47 210.263 2230.66 212.185 Q2229.88 214.083 2227.77 216.675 Q2227.19 217.347 2224.09 220.564 Q2220.99 223.759 2215.34 229.522 Z\" fill=\"#000000\" fill-rule=\"evenodd\" fill-opacity=\"1\" /></svg>\n"
      ]
     },
     "execution_count": 3,
     "metadata": {},
     "output_type": "execute_result"
    }
   ],
   "source": [
    "using Plots\n",
    "f(x) = cbrt(x)\n",
    "fd(x) = 1 / (3x^(2/3))\n",
    "plot(f, -3, 3)\n",
    "plot!(zero)"
   ]
  },
  {
   "cell_type": "code",
   "execution_count": 4,
   "metadata": {
    "scrolled": true
   },
   "outputs": [
    {
     "name": "stdout",
     "output_type": "stream",
     "text": [
      "333333.333333333\n",
      "357588.6609650478\n",
      "386799.0694677313\n",
      "422811.42940123804\n",
      "468573.7029454159\n",
      "529133.6839893993\n",
      "614005.2497733972\n",
      "743814.3889801877\n",
      "974672.5794042877\n",
      "1.5471962778709242e6\n"
     ]
    }
   ],
   "source": [
    "# Enquanto os valores vão se aproximando de 0, a derivada vai explodindo para infinito\n",
    "for i=0.000000001:-0.0000000001:0.0000000001\n",
    "    println(fd(i))\n",
    "end"
   ]
  },
  {
   "cell_type": "markdown",
   "metadata": {},
   "source": [
    "### (b)"
   ]
  },
  {
   "cell_type": "markdown",
   "metadata": {},
   "source": [
    "Para encontrar uma função que atenda a oscilação entre dois valores, precisamos achar uma função em que $x_k = x_{k+2}$ e $x_{k+1} = x_{k+3}$, ou seja, a cada passagem de valor ele tem que voltar pro termo anterior, isso caracteriza a oscilação."
   ]
  },
  {
   "cell_type": "markdown",
   "metadata": {},
   "source": [
    "Podemos buscar valores que satisfazem essa confição a partir do teorema do método de Newton: $x_{k+1}=x_k-\\frac{f\\left(x_k\\right)}{f\\:'\\left(x_k\\right)}$"
   ]
  },
  {
   "cell_type": "markdown",
   "metadata": {},
   "source": [
    "A função $f\\left(x\\right)=x^3-5x$ satisfaz essa condição porque ela é espelhada, então ao calcular um ponto escolhido no intervalo $\\sqrt{-5}\\:<\\:x0\\:<\\sqrt{5}$ ele irá refletir no seu mesmo valor com o sinal trocado no próximo termo"
   ]
  },
  {
   "cell_type": "code",
   "execution_count": 5,
   "metadata": {
    "scrolled": true
   },
   "outputs": [
    {
     "name": "stdout",
     "output_type": "stream",
     "text": [
      "num de iterações: 1000\n"
     ]
    },
    {
     "data": {
      "text/plain": [
       "(1.0, -4.0, :max_iter)"
      ]
     },
     "execution_count": 5,
     "metadata": {},
     "output_type": "execute_result"
    }
   ],
   "source": [
    "f(x) = x^3 - 5x\n",
    "fd(x) = 3x^2 - 5\n",
    "newton(f, fd, 1)"
   ]
  },
  {
   "cell_type": "code",
   "execution_count": 6,
   "metadata": {},
   "outputs": [
    {
     "data": {
      "image/svg+xml": [
       "<?xml version=\"1.0\" encoding=\"utf-8\"?>\n",
       "<svg xmlns=\"http://www.w3.org/2000/svg\" xmlns:xlink=\"http://www.w3.org/1999/xlink\" width=\"600\" height=\"400\" viewBox=\"0 0 2400 1600\">\n",
       "<defs>\n",
       "  <clipPath id=\"clip220\">\n",
       "    <rect x=\"0\" y=\"0\" width=\"2400\" height=\"1600\"/>\n",
       "  </clipPath>\n",
       "</defs>\n",
       "<path clip-path=\"url(#clip220)\" d=\"\n",
       "M0 1600 L2400 1600 L2400 0 L0 0  Z\n",
       "  \" fill=\"#ffffff\" fill-rule=\"evenodd\" fill-opacity=\"1\"/>\n",
       "<defs>\n",
       "  <clipPath id=\"clip221\">\n",
       "    <rect x=\"480\" y=\"0\" width=\"1681\" height=\"1600\"/>\n",
       "  </clipPath>\n",
       "</defs>\n",
       "<path clip-path=\"url(#clip220)\" d=\"\n",
       "M169.469 1486.45 L2352.76 1486.45 L2352.76 47.2441 L169.469 47.2441  Z\n",
       "  \" fill=\"#ffffff\" fill-rule=\"evenodd\" fill-opacity=\"1\"/>\n",
       "<defs>\n",
       "  <clipPath id=\"clip222\">\n",
       "    <rect x=\"169\" y=\"47\" width=\"2184\" height=\"1440\"/>\n",
       "  </clipPath>\n",
       "</defs>\n",
       "<polyline clip-path=\"url(#clip222)\" style=\"stroke:#000000; stroke-width:2; stroke-opacity:0.1; fill:none\" points=\"\n",
       "  437.23,1486.45 437.23,47.2441 \n",
       "  \"/>\n",
       "<polyline clip-path=\"url(#clip222)\" style=\"stroke:#000000; stroke-width:2; stroke-opacity:0.1; fill:none\" points=\"\n",
       "  849.171,1486.45 849.171,47.2441 \n",
       "  \"/>\n",
       "<polyline clip-path=\"url(#clip222)\" style=\"stroke:#000000; stroke-width:2; stroke-opacity:0.1; fill:none\" points=\"\n",
       "  1261.11,1486.45 1261.11,47.2441 \n",
       "  \"/>\n",
       "<polyline clip-path=\"url(#clip222)\" style=\"stroke:#000000; stroke-width:2; stroke-opacity:0.1; fill:none\" points=\"\n",
       "  1673.05,1486.45 1673.05,47.2441 \n",
       "  \"/>\n",
       "<polyline clip-path=\"url(#clip222)\" style=\"stroke:#000000; stroke-width:2; stroke-opacity:0.1; fill:none\" points=\"\n",
       "  2084.99,1486.45 2084.99,47.2441 \n",
       "  \"/>\n",
       "<polyline clip-path=\"url(#clip220)\" style=\"stroke:#000000; stroke-width:4; stroke-opacity:1; fill:none\" points=\"\n",
       "  169.469,1486.45 2352.76,1486.45 \n",
       "  \"/>\n",
       "<polyline clip-path=\"url(#clip220)\" style=\"stroke:#000000; stroke-width:4; stroke-opacity:1; fill:none\" points=\"\n",
       "  437.23,1486.45 437.23,1469.18 \n",
       "  \"/>\n",
       "<polyline clip-path=\"url(#clip220)\" style=\"stroke:#000000; stroke-width:4; stroke-opacity:1; fill:none\" points=\"\n",
       "  849.171,1486.45 849.171,1469.18 \n",
       "  \"/>\n",
       "<polyline clip-path=\"url(#clip220)\" style=\"stroke:#000000; stroke-width:4; stroke-opacity:1; fill:none\" points=\"\n",
       "  1261.11,1486.45 1261.11,1469.18 \n",
       "  \"/>\n",
       "<polyline clip-path=\"url(#clip220)\" style=\"stroke:#000000; stroke-width:4; stroke-opacity:1; fill:none\" points=\"\n",
       "  1673.05,1486.45 1673.05,1469.18 \n",
       "  \"/>\n",
       "<polyline clip-path=\"url(#clip220)\" style=\"stroke:#000000; stroke-width:4; stroke-opacity:1; fill:none\" points=\"\n",
       "  2084.99,1486.45 2084.99,1469.18 \n",
       "  \"/>\n",
       "<path clip-path=\"url(#clip220)\" d=\"M 0 0 M408.642 1530.29 L438.318 1530.29 L438.318 1534.23 L408.642 1534.23 L408.642 1530.29 Z\" fill=\"#000000\" fill-rule=\"evenodd\" fill-opacity=\"1\" /><path clip-path=\"url(#clip220)\" d=\"M 0 0 M456.235 1516.63 L444.429 1535.08 L456.235 1535.08 L456.235 1516.63 M455.008 1512.56 L460.887 1512.56 L460.887 1535.08 L465.818 1535.08 L465.818 1538.97 L460.887 1538.97 L460.887 1547.12 L456.235 1547.12 L456.235 1538.97 L440.633 1538.97 L440.633 1534.46 L455.008 1512.56 Z\" fill=\"#000000\" fill-rule=\"evenodd\" fill-opacity=\"1\" /><path clip-path=\"url(#clip220)\" d=\"M 0 0 M821.625 1530.29 L851.301 1530.29 L851.301 1534.23 L821.625 1534.23 L821.625 1530.29 Z\" fill=\"#000000\" fill-rule=\"evenodd\" fill-opacity=\"1\" /><path clip-path=\"url(#clip220)\" d=\"M 0 0 M860.398 1543.18 L876.717 1543.18 L876.717 1547.12 L854.773 1547.12 L854.773 1543.18 Q857.435 1540.43 862.018 1535.8 Q866.625 1531.15 867.805 1529.81 Q870.051 1527.28 870.93 1525.55 Q871.833 1523.79 871.833 1522.1 Q871.833 1519.34 869.889 1517.61 Q867.967 1515.87 864.866 1515.87 Q862.667 1515.87 860.213 1516.63 Q857.782 1517.4 855.005 1518.95 L855.005 1514.23 Q857.829 1513.09 860.282 1512.51 Q862.736 1511.93 864.773 1511.93 Q870.143 1511.93 873.338 1514.62 Q876.532 1517.31 876.532 1521.8 Q876.532 1523.93 875.722 1525.85 Q874.935 1527.74 872.828 1530.34 Q872.25 1531.01 869.148 1534.23 Q866.046 1537.42 860.398 1543.18 Z\" fill=\"#000000\" fill-rule=\"evenodd\" fill-opacity=\"1\" /><path clip-path=\"url(#clip220)\" d=\"M 0 0 M1261.11 1515.64 Q1257.5 1515.64 1255.67 1519.2 Q1253.87 1522.75 1253.87 1529.87 Q1253.87 1536.98 1255.67 1540.55 Q1257.5 1544.09 1261.11 1544.09 Q1264.75 1544.09 1266.55 1540.55 Q1268.38 1536.98 1268.38 1529.87 Q1268.38 1522.75 1266.55 1519.2 Q1264.75 1515.64 1261.11 1515.64 M1261.11 1511.93 Q1266.92 1511.93 1269.98 1516.54 Q1273.06 1521.12 1273.06 1529.87 Q1273.06 1538.6 1269.98 1543.21 Q1266.92 1547.79 1261.11 1547.79 Q1255.3 1547.79 1252.22 1543.21 Q1249.17 1538.6 1249.17 1529.87 Q1249.17 1521.12 1252.22 1516.54 Q1255.3 1511.93 1261.11 1511.93 Z\" fill=\"#000000\" fill-rule=\"evenodd\" fill-opacity=\"1\" /><path clip-path=\"url(#clip220)\" d=\"M 0 0 M1667.71 1543.18 L1684.03 1543.18 L1684.03 1547.12 L1662.08 1547.12 L1662.08 1543.18 Q1664.74 1540.43 1669.33 1535.8 Q1673.93 1531.15 1675.11 1529.81 Q1677.36 1527.28 1678.24 1525.55 Q1679.14 1523.79 1679.14 1522.1 Q1679.14 1519.34 1677.2 1517.61 Q1675.28 1515.87 1672.17 1515.87 Q1669.97 1515.87 1667.52 1516.63 Q1665.09 1517.4 1662.31 1518.95 L1662.31 1514.23 Q1665.14 1513.09 1667.59 1512.51 Q1670.04 1511.93 1672.08 1511.93 Q1677.45 1511.93 1680.65 1514.62 Q1683.84 1517.31 1683.84 1521.8 Q1683.84 1523.93 1683.03 1525.85 Q1682.24 1527.74 1680.14 1530.34 Q1679.56 1531.01 1676.46 1534.23 Q1673.35 1537.42 1667.71 1543.18 Z\" fill=\"#000000\" fill-rule=\"evenodd\" fill-opacity=\"1\" /><path clip-path=\"url(#clip220)\" d=\"M 0 0 M2088 1516.63 L2076.2 1535.08 L2088 1535.08 L2088 1516.63 M2086.78 1512.56 L2092.66 1512.56 L2092.66 1535.08 L2097.59 1535.08 L2097.59 1538.97 L2092.66 1538.97 L2092.66 1547.12 L2088 1547.12 L2088 1538.97 L2072.4 1538.97 L2072.4 1534.46 L2086.78 1512.56 Z\" fill=\"#000000\" fill-rule=\"evenodd\" fill-opacity=\"1\" /><polyline clip-path=\"url(#clip222)\" style=\"stroke:#000000; stroke-width:2; stroke-opacity:0.1; fill:none\" points=\"\n",
       "  169.469,1332.57 2352.76,1332.57 \n",
       "  \"/>\n",
       "<polyline clip-path=\"url(#clip222)\" style=\"stroke:#000000; stroke-width:2; stroke-opacity:0.1; fill:none\" points=\"\n",
       "  169.469,1049.71 2352.76,1049.71 \n",
       "  \"/>\n",
       "<polyline clip-path=\"url(#clip222)\" style=\"stroke:#000000; stroke-width:2; stroke-opacity:0.1; fill:none\" points=\"\n",
       "  169.469,766.846 2352.76,766.846 \n",
       "  \"/>\n",
       "<polyline clip-path=\"url(#clip222)\" style=\"stroke:#000000; stroke-width:2; stroke-opacity:0.1; fill:none\" points=\"\n",
       "  169.469,483.984 2352.76,483.984 \n",
       "  \"/>\n",
       "<polyline clip-path=\"url(#clip222)\" style=\"stroke:#000000; stroke-width:2; stroke-opacity:0.1; fill:none\" points=\"\n",
       "  169.469,201.121 2352.76,201.121 \n",
       "  \"/>\n",
       "<polyline clip-path=\"url(#clip220)\" style=\"stroke:#000000; stroke-width:4; stroke-opacity:1; fill:none\" points=\"\n",
       "  169.469,1486.45 169.469,47.2441 \n",
       "  \"/>\n",
       "<polyline clip-path=\"url(#clip220)\" style=\"stroke:#000000; stroke-width:4; stroke-opacity:1; fill:none\" points=\"\n",
       "  169.469,1332.57 195.668,1332.57 \n",
       "  \"/>\n",
       "<polyline clip-path=\"url(#clip220)\" style=\"stroke:#000000; stroke-width:4; stroke-opacity:1; fill:none\" points=\"\n",
       "  169.469,1049.71 195.668,1049.71 \n",
       "  \"/>\n",
       "<polyline clip-path=\"url(#clip220)\" style=\"stroke:#000000; stroke-width:4; stroke-opacity:1; fill:none\" points=\"\n",
       "  169.469,766.846 195.668,766.846 \n",
       "  \"/>\n",
       "<polyline clip-path=\"url(#clip220)\" style=\"stroke:#000000; stroke-width:4; stroke-opacity:1; fill:none\" points=\"\n",
       "  169.469,483.984 195.668,483.984 \n",
       "  \"/>\n",
       "<polyline clip-path=\"url(#clip220)\" style=\"stroke:#000000; stroke-width:4; stroke-opacity:1; fill:none\" points=\"\n",
       "  169.469,201.121 195.668,201.121 \n",
       "  \"/>\n",
       "<path clip-path=\"url(#clip220)\" d=\"M 0 0 M50.9921 1333.02 L80.6679 1333.02 L80.6679 1336.96 L50.9921 1336.96 L50.9921 1333.02 Z\" fill=\"#000000\" fill-rule=\"evenodd\" fill-opacity=\"1\" /><path clip-path=\"url(#clip220)\" d=\"M 0 0 M86.5475 1345.92 L94.1863 1345.92 L94.1863 1319.55 L85.8762 1321.22 L85.8762 1316.96 L94.14 1315.29 L98.8159 1315.29 L98.8159 1345.92 L106.455 1345.92 L106.455 1349.85 L86.5475 1349.85 L86.5475 1345.92 Z\" fill=\"#000000\" fill-rule=\"evenodd\" fill-opacity=\"1\" /><path clip-path=\"url(#clip220)\" d=\"M 0 0 M121.524 1318.37 Q117.913 1318.37 116.084 1321.93 Q114.279 1325.48 114.279 1332.61 Q114.279 1339.71 116.084 1343.28 Q117.913 1346.82 121.524 1346.82 Q125.158 1346.82 126.964 1343.28 Q128.793 1339.71 128.793 1332.61 Q128.793 1325.48 126.964 1321.93 Q125.158 1318.37 121.524 1318.37 M121.524 1314.67 Q127.334 1314.67 130.39 1319.27 Q133.469 1323.86 133.469 1332.61 Q133.469 1341.33 130.39 1345.94 Q127.334 1350.52 121.524 1350.52 Q115.714 1350.52 112.635 1345.94 Q109.58 1341.33 109.58 1332.61 Q109.58 1323.86 112.635 1319.27 Q115.714 1314.67 121.524 1314.67 Z\" fill=\"#000000\" fill-rule=\"evenodd\" fill-opacity=\"1\" /><path clip-path=\"url(#clip220)\" d=\"M 0 0 M77.7744 1050.16 L107.45 1050.16 L107.45 1054.09 L77.7744 1054.09 L77.7744 1050.16 Z\" fill=\"#000000\" fill-rule=\"evenodd\" fill-opacity=\"1\" /><path clip-path=\"url(#clip220)\" d=\"M 0 0 M112.566 1032.43 L130.922 1032.43 L130.922 1036.36 L116.848 1036.36 L116.848 1044.84 Q117.867 1044.49 118.885 1044.33 Q119.904 1044.14 120.922 1044.14 Q126.709 1044.14 130.089 1047.31 Q133.469 1050.48 133.469 1055.9 Q133.469 1061.48 129.996 1064.58 Q126.524 1067.66 120.205 1067.66 Q118.029 1067.66 115.76 1067.29 Q113.515 1066.92 111.108 1066.18 L111.108 1061.48 Q113.191 1062.61 115.413 1063.17 Q117.635 1063.72 120.112 1063.72 Q124.117 1063.72 126.455 1061.62 Q128.793 1059.51 128.793 1055.9 Q128.793 1052.29 126.455 1050.18 Q124.117 1048.08 120.112 1048.08 Q118.237 1048.08 116.362 1048.49 Q114.51 1048.91 112.566 1049.79 L112.566 1032.43 Z\" fill=\"#000000\" fill-rule=\"evenodd\" fill-opacity=\"1\" /><path clip-path=\"url(#clip220)\" d=\"M 0 0 M121.524 752.645 Q117.913 752.645 116.084 756.209 Q114.279 759.751 114.279 766.881 Q114.279 773.987 116.084 777.552 Q117.913 781.094 121.524 781.094 Q125.158 781.094 126.964 777.552 Q128.793 773.987 128.793 766.881 Q128.793 759.751 126.964 756.209 Q125.158 752.645 121.524 752.645 M121.524 748.941 Q127.334 748.941 130.39 753.547 Q133.469 758.131 133.469 766.881 Q133.469 775.608 130.39 780.214 Q127.334 784.797 121.524 784.797 Q115.714 784.797 112.635 780.214 Q109.58 775.608 109.58 766.881 Q109.58 758.131 112.635 753.547 Q115.714 748.941 121.524 748.941 Z\" fill=\"#000000\" fill-rule=\"evenodd\" fill-opacity=\"1\" /><path clip-path=\"url(#clip220)\" d=\"M 0 0 M112.566 466.704 L130.922 466.704 L130.922 470.639 L116.848 470.639 L116.848 479.111 Q117.867 478.764 118.885 478.602 Q119.904 478.417 120.922 478.417 Q126.709 478.417 130.089 481.588 Q133.469 484.759 133.469 490.176 Q133.469 495.754 129.996 498.856 Q126.524 501.935 120.205 501.935 Q118.029 501.935 115.76 501.565 Q113.515 501.194 111.108 500.453 L111.108 495.754 Q113.191 496.889 115.413 497.444 Q117.635 498 120.112 498 Q124.117 498 126.455 495.893 Q128.793 493.787 128.793 490.176 Q128.793 486.565 126.455 484.458 Q124.117 482.352 120.112 482.352 Q118.237 482.352 116.362 482.768 Q114.51 483.185 112.566 484.065 L112.566 466.704 Z\" fill=\"#000000\" fill-rule=\"evenodd\" fill-opacity=\"1\" /><path clip-path=\"url(#clip220)\" d=\"M 0 0 M86.5475 214.466 L94.1863 214.466 L94.1863 188.1 L85.8762 189.767 L85.8762 185.508 L94.14 183.841 L98.8159 183.841 L98.8159 214.466 L106.455 214.466 L106.455 218.401 L86.5475 218.401 L86.5475 214.466 Z\" fill=\"#000000\" fill-rule=\"evenodd\" fill-opacity=\"1\" /><path clip-path=\"url(#clip220)\" d=\"M 0 0 M121.524 186.92 Q117.913 186.92 116.084 190.485 Q114.279 194.026 114.279 201.156 Q114.279 208.262 116.084 211.827 Q117.913 215.369 121.524 215.369 Q125.158 215.369 126.964 211.827 Q128.793 208.262 128.793 201.156 Q128.793 194.026 126.964 190.485 Q125.158 186.92 121.524 186.92 M121.524 183.216 Q127.334 183.216 130.39 187.823 Q133.469 192.406 133.469 201.156 Q133.469 209.883 130.39 214.489 Q127.334 219.073 121.524 219.073 Q115.714 219.073 112.635 214.489 Q109.58 209.883 109.58 201.156 Q109.58 192.406 112.635 187.823 Q115.714 183.216 121.524 183.216 Z\" fill=\"#000000\" fill-rule=\"evenodd\" fill-opacity=\"1\" /><polyline clip-path=\"url(#clip222)\" style=\"stroke:#009af9; stroke-width:4; stroke-opacity:1; fill:none\" points=\"\n",
       "  643.201,1445.72 646.218,1427.59 649.235,1409.69 652.252,1392 655.27,1374.53 683.168,1222.97 711.066,1088.88 738.965,971.43 766.863,869.764 783.629,815.909 \n",
       "  800.395,767.267 817.161,723.657 833.926,684.894 862.277,629.863 890.627,587.285 921.424,554.112 952.221,533.454 980.612,524.517 1009,524.363 1039.44,532.943 \n",
       "  1069.88,549.502 1105.15,577.221 1140.42,612.475 1203.1,688.437 1258.06,762.658 1317.99,843.766 1378.27,917.334 1411.6,951.449 1444.93,979.071 1476.63,998.012 \n",
       "  1508.34,1008.54 1541.31,1009.22 1574.28,998.075 1602.04,978.498 1629.79,948.721 1663.67,897.328 1697.56,827.981 1713.48,788.755 1729.41,745.072 1745.33,696.775 \n",
       "  1761.26,643.707 1786.77,548.352 1812.29,439.703 1837.8,317.117 1863.32,179.947 1867.24,157.501 1871.17,134.692 1875.1,111.518 1879.02,87.9763 \n",
       "  \"/>\n",
       "<polyline clip-path=\"url(#clip222)\" style=\"stroke:#e26f46; stroke-width:4; stroke-opacity:1; fill:none\" points=\"\n",
       "  231.26,766.846 251.374,766.846 437.364,766.846 549.136,766.846 643.638,766.846 746.293,766.846 840.932,766.846 942.395,766.846 1059.95,766.846 1164.42,766.846 \n",
       "  1256.03,766.846 1355.91,766.846 1456.38,766.846 1567.47,766.846 1673.16,766.846 1783.06,766.846 1875.57,766.846 1988.52,766.846 2094.69,766.846 2264.79,766.846 \n",
       "  2290.96,766.846 \n",
       "  \"/>\n",
       "<path clip-path=\"url(#clip220)\" d=\"\n",
       "M1986.37 276.658 L2279.98 276.658 L2279.98 95.2176 L1986.37 95.2176  Z\n",
       "  \" fill=\"#ffffff\" fill-rule=\"evenodd\" fill-opacity=\"1\"/>\n",
       "<polyline clip-path=\"url(#clip220)\" style=\"stroke:#000000; stroke-width:4; stroke-opacity:1; fill:none\" points=\"\n",
       "  1986.37,276.658 2279.98,276.658 2279.98,95.2176 1986.37,95.2176 1986.37,276.658 \n",
       "  \"/>\n",
       "<polyline clip-path=\"url(#clip220)\" style=\"stroke:#009af9; stroke-width:4; stroke-opacity:1; fill:none\" points=\"\n",
       "  2010.63,155.698 2156.19,155.698 \n",
       "  \"/>\n",
       "<path clip-path=\"url(#clip220)\" d=\"M 0 0 M2194.29 175.385 Q2192.48 180.015 2190.77 181.427 Q2189.05 182.839 2186.18 182.839 L2182.78 182.839 L2182.78 179.274 L2185.28 179.274 Q2187.04 179.274 2188.01 178.44 Q2188.99 177.607 2190.17 174.505 L2190.93 172.561 L2180.44 147.052 L2184.96 147.052 L2193.06 167.329 L2201.16 147.052 L2205.68 147.052 L2194.29 175.385 Z\" fill=\"#000000\" fill-rule=\"evenodd\" fill-opacity=\"1\" /><path clip-path=\"url(#clip220)\" d=\"M 0 0 M2211.55 169.042 L2219.19 169.042 L2219.19 142.677 L2210.88 144.343 L2210.88 140.084 L2219.15 138.418 L2223.82 138.418 L2223.82 169.042 L2231.46 169.042 L2231.46 172.978 L2211.55 172.978 L2211.55 169.042 Z\" fill=\"#000000\" fill-rule=\"evenodd\" fill-opacity=\"1\" /><polyline clip-path=\"url(#clip220)\" style=\"stroke:#e26f46; stroke-width:4; stroke-opacity:1; fill:none\" points=\"\n",
       "  2010.63,216.178 2156.19,216.178 \n",
       "  \"/>\n",
       "<path clip-path=\"url(#clip220)\" d=\"M 0 0 M2194.29 235.865 Q2192.48 240.495 2190.77 241.907 Q2189.05 243.319 2186.18 243.319 L2182.78 243.319 L2182.78 239.754 L2185.28 239.754 Q2187.04 239.754 2188.01 238.92 Q2188.99 238.087 2190.17 234.985 L2190.93 233.041 L2180.44 207.532 L2184.96 207.532 L2193.06 227.809 L2201.16 207.532 L2205.68 207.532 L2194.29 235.865 Z\" fill=\"#000000\" fill-rule=\"evenodd\" fill-opacity=\"1\" /><path clip-path=\"url(#clip220)\" d=\"M 0 0 M2214.77 229.522 L2231.09 229.522 L2231.09 233.458 L2209.15 233.458 L2209.15 229.522 Q2211.81 226.768 2216.39 222.138 Q2221 217.485 2222.18 216.143 Q2224.43 213.62 2225.3 211.884 Q2226.21 210.124 2226.21 208.435 Q2226.21 205.68 2224.26 203.944 Q2222.34 202.208 2219.24 202.208 Q2217.04 202.208 2214.59 202.972 Q2212.16 203.735 2209.38 205.286 L2209.38 200.564 Q2212.2 199.43 2214.66 198.851 Q2217.11 198.273 2219.15 198.273 Q2224.52 198.273 2227.71 200.958 Q2230.91 203.643 2230.91 208.134 Q2230.91 210.263 2230.1 212.185 Q2229.31 214.083 2227.2 216.675 Q2226.62 217.347 2223.52 220.564 Q2220.42 223.759 2214.77 229.522 Z\" fill=\"#000000\" fill-rule=\"evenodd\" fill-opacity=\"1\" /></svg>\n"
      ]
     },
     "execution_count": 6,
     "metadata": {},
     "output_type": "execute_result"
    }
   ],
   "source": [
    "f(x) = x^3 - 5x\n",
    "fd(x) = 3x^2 - 5\n",
    "plot(f, -3.0, 3.0)\n",
    "plot!(zero)"
   ]
  },
  {
   "cell_type": "markdown",
   "metadata": {},
   "source": [
    "### (c)"
   ]
  },
  {
   "cell_type": "markdown",
   "metadata": {},
   "source": [
    "para encontrarmos uma função que converge lentamente dado um x0 específico, basta encontrarmos um caso em que a fd(x0) jogue o próximo termo da função para muito longe"
   ]
  },
  {
   "cell_type": "code",
   "execution_count": 7,
   "metadata": {},
   "outputs": [
    {
     "name": "stdout",
     "output_type": "stream",
     "text": [
      "num de iterações: 402\n"
     ]
    },
    {
     "data": {
      "text/plain": [
       "(1.4206890746592641e-15, 1.3322676295501878e-15, :sucesso)"
      ]
     },
     "execution_count": 7,
     "metadata": {},
     "output_type": "execute_result"
    }
   ],
   "source": [
    "f(x) = ℯ^x - 1\n",
    "fd(x) = ℯ^x\n",
    "newton(f, fd, -6.0)"
   ]
  },
  {
   "cell_type": "markdown",
   "metadata": {},
   "source": [
    "Podemos ver acima que com a função $f\\left(x\\right)=e^x-1$ com chute inicial $x0= -6.0$ leva 402 iterações para chegar num valor aceitável, isso para o método de Newton são muitos passos uma vez que o método deveria ser muito rápido."
   ]
  },
  {
   "cell_type": "markdown",
   "metadata": {},
   "source": [
    "**Abaixo está um exemplo do que está acontecendo graficamente**"
   ]
  },
  {
   "cell_type": "code",
   "execution_count": 44,
   "metadata": {},
   "outputs": [
    {
     "name": "stderr",
     "output_type": "stream",
     "text": [
      "┌ Info: Saved animation to \n",
      "│   fn = C:\\Users\\rodri\\Desktop\\CalcNum\\exemplo.gif\n",
      "└ @ Plots C:\\Users\\rodri\\.julia\\packages\\Plots\\lmp2A\\src\\animation.jl:104\n"
     ]
    },
    {
     "data": {
      "text/html": [
       "<img src=\"data:image/gif;base64,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\" />"
      ],
      "text/plain": [
       "Plots.AnimatedGif(\"C:\\\\Users\\\\rodri\\\\Desktop\\\\CalcNum\\\\exemplo.gif\")"
      ]
     },
     "execution_count": 44,
     "metadata": {},
     "output_type": "execute_result"
    }
   ],
   "source": [
    "f(x) = ℯ^x - 1\n",
    "fd(x) = ℯ^x\n",
    "anim = Animation()\n",
    "for x = -7.0:0.1:0.0\n",
    "    plot(f, -6, 6, leg=false)\n",
    "    plot!(zero, -7.0, 50.0)\n",
    "    scatter!([x], [f(x)], c=:red, ms=4)\n",
    "    local x\n",
    "    for k=1:3\n",
    "        xp = x - f(x) / fd(x)\n",
    "        plot!([x, xp, xp], [f(x), 0, f(xp)], c=:pink)\n",
    "        scatter!([xp], [f(xp)], c=:pink, ms=2)\n",
    "        x = xp\n",
    "    end\n",
    "    \n",
    "    xlims!(-7.0, 50.0)\n",
    "    ylims!(-10.0,10.0)\n",
    "    frame(anim)\n",
    "end\n",
    "\n",
    "gif(anim, \"exemplo.gif\", fps=10)"
   ]
  },
  {
   "cell_type": "markdown",
   "metadata": {},
   "source": [
    "# Questão 2"
   ]
  },
  {
   "cell_type": "markdown",
   "metadata": {},
   "source": [
    "### (a)"
   ]
  },
  {
   "cell_type": "markdown",
   "metadata": {},
   "source": [
    "Primeiro precisamos igualar as funções pois se trata do ponto de interseção\n",
    "\n",
    "$e^{\\frac{x}{4}} = \\frac{1.982}{x}$\n",
    "\n",
    "Ao isolar o x, ficamos com:\n",
    "\n",
    "$x = \\frac{e^{\\frac{x}{4}}}{1.982\\:}$"
   ]
  },
  {
   "cell_type": "code",
   "execution_count": 46,
   "metadata": {},
   "outputs": [
    {
     "data": {
      "text/plain": [
       "f (generic function with 1 method)"
      ]
     },
     "execution_count": 46,
     "metadata": {},
     "output_type": "execute_result"
    }
   ],
   "source": [
    "f(x) = (1.982/ℯ^(x/4))"
   ]
  },
  {
   "cell_type": "code",
   "execution_count": 47,
   "metadata": {},
   "outputs": [
    {
     "data": {
      "image/svg+xml": [
       "<?xml version=\"1.0\" encoding=\"utf-8\"?>\n",
       "<svg xmlns=\"http://www.w3.org/2000/svg\" xmlns:xlink=\"http://www.w3.org/1999/xlink\" width=\"600\" height=\"400\" viewBox=\"0 0 2400 1600\">\n",
       "<defs>\n",
       "  <clipPath id=\"clip460\">\n",
       "    <rect x=\"0\" y=\"0\" width=\"2400\" height=\"1600\"/>\n",
       "  </clipPath>\n",
       "</defs>\n",
       "<path clip-path=\"url(#clip460)\" d=\"\n",
       "M0 1600 L2400 1600 L2400 0 L0 0  Z\n",
       "  \" fill=\"#ffffff\" fill-rule=\"evenodd\" fill-opacity=\"1\"/>\n",
       "<defs>\n",
       "  <clipPath id=\"clip461\">\n",
       "    <rect x=\"480\" y=\"0\" width=\"1681\" height=\"1600\"/>\n",
       "  </clipPath>\n",
       "</defs>\n",
       "<path clip-path=\"url(#clip460)\" d=\"\n",
       "M112.177 1486.45 L2352.76 1486.45 L2352.76 47.2441 L112.177 47.2441  Z\n",
       "  \" fill=\"#ffffff\" fill-rule=\"evenodd\" fill-opacity=\"1\"/>\n",
       "<defs>\n",
       "  <clipPath id=\"clip462\">\n",
       "    <rect x=\"112\" y=\"47\" width=\"2242\" height=\"1440\"/>\n",
       "  </clipPath>\n",
       "</defs>\n",
       "<polyline clip-path=\"url(#clip462)\" style=\"stroke:#000000; stroke-width:2; stroke-opacity:0.1; fill:none\" points=\"\n",
       "  386.965,1486.45 386.965,47.2441 \n",
       "  \"/>\n",
       "<polyline clip-path=\"url(#clip462)\" style=\"stroke:#000000; stroke-width:2; stroke-opacity:0.1; fill:none\" points=\"\n",
       "  809.716,1486.45 809.716,47.2441 \n",
       "  \"/>\n",
       "<polyline clip-path=\"url(#clip462)\" style=\"stroke:#000000; stroke-width:2; stroke-opacity:0.1; fill:none\" points=\"\n",
       "  1232.47,1486.45 1232.47,47.2441 \n",
       "  \"/>\n",
       "<polyline clip-path=\"url(#clip462)\" style=\"stroke:#000000; stroke-width:2; stroke-opacity:0.1; fill:none\" points=\"\n",
       "  1655.22,1486.45 1655.22,47.2441 \n",
       "  \"/>\n",
       "<polyline clip-path=\"url(#clip462)\" style=\"stroke:#000000; stroke-width:2; stroke-opacity:0.1; fill:none\" points=\"\n",
       "  2077.97,1486.45 2077.97,47.2441 \n",
       "  \"/>\n",
       "<polyline clip-path=\"url(#clip460)\" style=\"stroke:#000000; stroke-width:4; stroke-opacity:1; fill:none\" points=\"\n",
       "  112.177,1486.45 2352.76,1486.45 \n",
       "  \"/>\n",
       "<polyline clip-path=\"url(#clip460)\" style=\"stroke:#000000; stroke-width:4; stroke-opacity:1; fill:none\" points=\"\n",
       "  386.965,1486.45 386.965,1469.18 \n",
       "  \"/>\n",
       "<polyline clip-path=\"url(#clip460)\" style=\"stroke:#000000; stroke-width:4; stroke-opacity:1; fill:none\" points=\"\n",
       "  809.716,1486.45 809.716,1469.18 \n",
       "  \"/>\n",
       "<polyline clip-path=\"url(#clip460)\" style=\"stroke:#000000; stroke-width:4; stroke-opacity:1; fill:none\" points=\"\n",
       "  1232.47,1486.45 1232.47,1469.18 \n",
       "  \"/>\n",
       "<polyline clip-path=\"url(#clip460)\" style=\"stroke:#000000; stroke-width:4; stroke-opacity:1; fill:none\" points=\"\n",
       "  1655.22,1486.45 1655.22,1469.18 \n",
       "  \"/>\n",
       "<polyline clip-path=\"url(#clip460)\" style=\"stroke:#000000; stroke-width:4; stroke-opacity:1; fill:none\" points=\"\n",
       "  2077.97,1486.45 2077.97,1469.18 \n",
       "  \"/>\n",
       "<path clip-path=\"url(#clip460)\" d=\"M 0 0 M358.377 1530.29 L388.053 1530.29 L388.053 1534.23 L358.377 1534.23 L358.377 1530.29 Z\" fill=\"#000000\" fill-rule=\"evenodd\" fill-opacity=\"1\" /><path clip-path=\"url(#clip460)\" d=\"M 0 0 M405.97 1516.63 L394.164 1535.08 L405.97 1535.08 L405.97 1516.63 M404.743 1512.56 L410.622 1512.56 L410.622 1535.08 L415.553 1535.08 L415.553 1538.97 L410.622 1538.97 L410.622 1547.12 L405.97 1547.12 L405.97 1538.97 L390.368 1538.97 L390.368 1534.46 L404.743 1512.56 Z\" fill=\"#000000\" fill-rule=\"evenodd\" fill-opacity=\"1\" /><path clip-path=\"url(#clip460)\" d=\"M 0 0 M782.17 1530.29 L811.845 1530.29 L811.845 1534.23 L782.17 1534.23 L782.17 1530.29 Z\" fill=\"#000000\" fill-rule=\"evenodd\" fill-opacity=\"1\" /><path clip-path=\"url(#clip460)\" d=\"M 0 0 M820.943 1543.18 L837.262 1543.18 L837.262 1547.12 L815.318 1547.12 L815.318 1543.18 Q817.98 1540.43 822.563 1535.8 Q827.169 1531.15 828.35 1529.81 Q830.595 1527.28 831.475 1525.55 Q832.378 1523.79 832.378 1522.1 Q832.378 1519.34 830.433 1517.61 Q828.512 1515.87 825.41 1515.87 Q823.211 1515.87 820.757 1516.63 Q818.327 1517.4 815.549 1518.95 L815.549 1514.23 Q818.373 1513.09 820.827 1512.51 Q823.281 1511.93 825.318 1511.93 Q830.688 1511.93 833.882 1514.62 Q837.077 1517.31 837.077 1521.8 Q837.077 1523.93 836.267 1525.85 Q835.48 1527.74 833.373 1530.34 Q832.794 1531.01 829.693 1534.23 Q826.591 1537.42 820.943 1543.18 Z\" fill=\"#000000\" fill-rule=\"evenodd\" fill-opacity=\"1\" /><path clip-path=\"url(#clip460)\" d=\"M 0 0 M1232.47 1515.64 Q1228.86 1515.64 1227.03 1519.2 Q1225.22 1522.75 1225.22 1529.87 Q1225.22 1536.98 1227.03 1540.55 Q1228.86 1544.09 1232.47 1544.09 Q1236.1 1544.09 1237.91 1540.55 Q1239.74 1536.98 1239.74 1529.87 Q1239.74 1522.75 1237.91 1519.2 Q1236.1 1515.64 1232.47 1515.64 M1232.47 1511.93 Q1238.28 1511.93 1241.33 1516.54 Q1244.41 1521.12 1244.41 1529.87 Q1244.41 1538.6 1241.33 1543.21 Q1238.28 1547.79 1232.47 1547.79 Q1226.66 1547.79 1223.58 1543.21 Q1220.52 1538.6 1220.52 1529.87 Q1220.52 1521.12 1223.58 1516.54 Q1226.66 1511.93 1232.47 1511.93 Z\" fill=\"#000000\" fill-rule=\"evenodd\" fill-opacity=\"1\" /><path clip-path=\"url(#clip460)\" d=\"M 0 0 M1649.87 1543.18 L1666.19 1543.18 L1666.19 1547.12 L1644.25 1547.12 L1644.25 1543.18 Q1646.91 1540.43 1651.49 1535.8 Q1656.1 1531.15 1657.28 1529.81 Q1659.52 1527.28 1660.4 1525.55 Q1661.31 1523.79 1661.31 1522.1 Q1661.31 1519.34 1659.36 1517.61 Q1657.44 1515.87 1654.34 1515.87 Q1652.14 1515.87 1649.68 1516.63 Q1647.25 1517.4 1644.48 1518.95 L1644.48 1514.23 Q1647.3 1513.09 1649.75 1512.51 Q1652.21 1511.93 1654.25 1511.93 Q1659.62 1511.93 1662.81 1514.62 Q1666 1517.31 1666 1521.8 Q1666 1523.93 1665.19 1525.85 Q1664.41 1527.74 1662.3 1530.34 Q1661.72 1531.01 1658.62 1534.23 Q1655.52 1537.42 1649.87 1543.18 Z\" fill=\"#000000\" fill-rule=\"evenodd\" fill-opacity=\"1\" /><path clip-path=\"url(#clip460)\" d=\"M 0 0 M2080.98 1516.63 L2069.17 1535.08 L2080.98 1535.08 L2080.98 1516.63 M2079.75 1512.56 L2085.63 1512.56 L2085.63 1535.08 L2090.56 1535.08 L2090.56 1538.97 L2085.63 1538.97 L2085.63 1547.12 L2080.98 1547.12 L2080.98 1538.97 L2065.38 1538.97 L2065.38 1534.46 L2079.75 1512.56 Z\" fill=\"#000000\" fill-rule=\"evenodd\" fill-opacity=\"1\" /><polyline clip-path=\"url(#clip462)\" style=\"stroke:#000000; stroke-width:2; stroke-opacity:0.1; fill:none\" points=\"\n",
       "  112.177,1353.32 2352.76,1353.32 \n",
       "  \"/>\n",
       "<polyline clip-path=\"url(#clip462)\" style=\"stroke:#000000; stroke-width:2; stroke-opacity:0.1; fill:none\" points=\"\n",
       "  112.177,1139.5 2352.76,1139.5 \n",
       "  \"/>\n",
       "<polyline clip-path=\"url(#clip462)\" style=\"stroke:#000000; stroke-width:2; stroke-opacity:0.1; fill:none\" points=\"\n",
       "  112.177,925.681 2352.76,925.681 \n",
       "  \"/>\n",
       "<polyline clip-path=\"url(#clip462)\" style=\"stroke:#000000; stroke-width:2; stroke-opacity:0.1; fill:none\" points=\"\n",
       "  112.177,711.864 2352.76,711.864 \n",
       "  \"/>\n",
       "<polyline clip-path=\"url(#clip462)\" style=\"stroke:#000000; stroke-width:2; stroke-opacity:0.1; fill:none\" points=\"\n",
       "  112.177,498.047 2352.76,498.047 \n",
       "  \"/>\n",
       "<polyline clip-path=\"url(#clip462)\" style=\"stroke:#000000; stroke-width:2; stroke-opacity:0.1; fill:none\" points=\"\n",
       "  112.177,284.23 2352.76,284.23 \n",
       "  \"/>\n",
       "<polyline clip-path=\"url(#clip462)\" style=\"stroke:#000000; stroke-width:2; stroke-opacity:0.1; fill:none\" points=\"\n",
       "  112.177,70.4133 2352.76,70.4133 \n",
       "  \"/>\n",
       "<polyline clip-path=\"url(#clip460)\" style=\"stroke:#000000; stroke-width:4; stroke-opacity:1; fill:none\" points=\"\n",
       "  112.177,1486.45 112.177,47.2441 \n",
       "  \"/>\n",
       "<polyline clip-path=\"url(#clip460)\" style=\"stroke:#000000; stroke-width:4; stroke-opacity:1; fill:none\" points=\"\n",
       "  112.177,1353.32 139.064,1353.32 \n",
       "  \"/>\n",
       "<polyline clip-path=\"url(#clip460)\" style=\"stroke:#000000; stroke-width:4; stroke-opacity:1; fill:none\" points=\"\n",
       "  112.177,1139.5 139.064,1139.5 \n",
       "  \"/>\n",
       "<polyline clip-path=\"url(#clip460)\" style=\"stroke:#000000; stroke-width:4; stroke-opacity:1; fill:none\" points=\"\n",
       "  112.177,925.681 139.064,925.681 \n",
       "  \"/>\n",
       "<polyline clip-path=\"url(#clip460)\" style=\"stroke:#000000; stroke-width:4; stroke-opacity:1; fill:none\" points=\"\n",
       "  112.177,711.864 139.064,711.864 \n",
       "  \"/>\n",
       "<polyline clip-path=\"url(#clip460)\" style=\"stroke:#000000; stroke-width:4; stroke-opacity:1; fill:none\" points=\"\n",
       "  112.177,498.047 139.064,498.047 \n",
       "  \"/>\n",
       "<polyline clip-path=\"url(#clip460)\" style=\"stroke:#000000; stroke-width:4; stroke-opacity:1; fill:none\" points=\"\n",
       "  112.177,284.23 139.064,284.23 \n",
       "  \"/>\n",
       "<polyline clip-path=\"url(#clip460)\" style=\"stroke:#000000; stroke-width:4; stroke-opacity:1; fill:none\" points=\"\n",
       "  112.177,70.4133 139.064,70.4133 \n",
       "  \"/>\n",
       "<path clip-path=\"url(#clip460)\" d=\"M 0 0 M56.2699 1366.66 L63.9087 1366.66 L63.9087 1340.29 L55.5986 1341.96 L55.5986 1337.7 L63.8624 1336.04 L68.5383 1336.04 L68.5383 1366.66 L76.1772 1366.66 L76.1772 1370.6 L56.2699 1370.6 L56.2699 1366.66 Z\" fill=\"#000000\" fill-rule=\"evenodd\" fill-opacity=\"1\" /><path clip-path=\"url(#clip460)\" d=\"M 0 0 M59.8578 1152.84 L76.1772 1152.84 L76.1772 1156.78 L54.2328 1156.78 L54.2328 1152.84 Q56.8949 1150.09 61.4782 1145.46 Q66.0846 1140.81 67.2652 1139.46 Q69.5105 1136.94 70.3902 1135.2 Q71.2929 1133.45 71.2929 1131.76 Q71.2929 1129 69.3485 1127.26 Q67.4272 1125.53 64.3254 1125.53 Q62.1263 1125.53 59.6726 1126.29 Q57.2421 1127.06 54.4643 1128.61 L54.4643 1123.88 Q57.2884 1122.75 59.7421 1122.17 Q62.1958 1121.59 64.2328 1121.59 Q69.6031 1121.59 72.7976 1124.28 Q75.992 1126.96 75.992 1131.45 Q75.992 1133.58 75.1818 1135.51 Q74.3948 1137.4 72.2883 1140 Q71.7096 1140.67 68.6078 1143.88 Q65.5059 1147.08 59.8578 1152.84 Z\" fill=\"#000000\" fill-rule=\"evenodd\" fill-opacity=\"1\" /><path clip-path=\"url(#clip460)\" d=\"M 0 0 M69.0476 924.327 Q72.404 925.045 74.279 927.313 Q76.1772 929.582 76.1772 932.915 Q76.1772 938.031 72.6587 940.832 Q69.1402 943.633 62.6587 943.633 Q60.4828 943.633 58.168 943.193 Q55.8764 942.776 53.4227 941.92 L53.4227 937.406 Q55.3671 938.54 57.6819 939.119 Q59.9967 939.697 62.5198 939.697 Q66.918 939.697 69.2096 937.961 Q71.5244 936.225 71.5244 932.915 Q71.5244 929.859 69.3717 928.147 Q67.242 926.41 63.4226 926.41 L59.3949 926.41 L59.3949 922.568 L63.6078 922.568 Q67.0569 922.568 68.8855 921.202 Q70.7142 919.813 70.7142 917.221 Q70.7142 914.559 68.8161 913.147 Q66.9411 911.711 63.4226 911.711 Q61.5013 911.711 59.3023 912.128 Q57.1032 912.545 54.4643 913.424 L54.4643 909.258 Q57.1264 908.517 59.4412 908.147 Q61.7791 907.776 63.8393 907.776 Q69.1633 907.776 72.2652 910.207 Q75.367 912.614 75.367 916.735 Q75.367 919.605 73.7235 921.596 Q72.08 923.563 69.0476 924.327 Z\" fill=\"#000000\" fill-rule=\"evenodd\" fill-opacity=\"1\" /><path clip-path=\"url(#clip460)\" d=\"M 0 0 M66.5939 698.658 L54.7884 717.107 L66.5939 717.107 L66.5939 698.658 M65.367 694.584 L71.2466 694.584 L71.2466 717.107 L76.1772 717.107 L76.1772 720.996 L71.2466 720.996 L71.2466 729.144 L66.5939 729.144 L66.5939 720.996 L50.9921 720.996 L50.9921 716.482 L65.367 694.584 Z\" fill=\"#000000\" fill-rule=\"evenodd\" fill-opacity=\"1\" /><path clip-path=\"url(#clip460)\" d=\"M 0 0 M55.2745 480.767 L73.6309 480.767 L73.6309 484.702 L59.5569 484.702 L59.5569 493.175 Q60.5754 492.827 61.5939 492.665 Q62.6124 492.48 63.6309 492.48 Q69.418 492.48 72.7976 495.651 Q76.1772 498.823 76.1772 504.239 Q76.1772 509.818 72.705 512.92 Q69.2328 515.999 62.9134 515.999 Q60.7374 515.999 58.4689 515.628 Q56.2236 515.258 53.8162 514.517 L53.8162 509.818 Q55.8995 510.952 58.1217 511.508 Q60.3439 512.063 62.8208 512.063 Q66.8254 512.063 69.1633 509.957 Q71.5013 507.85 71.5013 504.239 Q71.5013 500.628 69.1633 498.522 Q66.8254 496.415 62.8208 496.415 Q60.9458 496.415 59.0708 496.832 Q57.2189 497.249 55.2745 498.128 L55.2745 480.767 Z\" fill=\"#000000\" fill-rule=\"evenodd\" fill-opacity=\"1\" /><path clip-path=\"url(#clip460)\" d=\"M 0 0 M64.6495 282.367 Q61.5013 282.367 59.6495 284.52 Q57.8208 286.672 57.8208 290.422 Q57.8208 294.149 59.6495 296.325 Q61.5013 298.478 64.6495 298.478 Q67.7976 298.478 69.6263 296.325 Q71.4781 294.149 71.4781 290.422 Q71.4781 286.672 69.6263 284.52 Q67.7976 282.367 64.6495 282.367 M73.9318 267.714 L73.9318 271.973 Q72.1726 271.14 70.367 270.7 Q68.5846 270.26 66.8254 270.26 Q62.1958 270.26 59.7421 273.385 Q57.3115 276.51 56.9643 282.83 Q58.33 280.816 60.3902 279.751 Q62.4504 278.663 64.9272 278.663 Q70.1355 278.663 73.1448 281.834 Q76.1772 284.983 76.1772 290.422 Q76.1772 295.746 73.029 298.964 Q69.8809 302.182 64.6495 302.182 Q58.6541 302.182 55.4828 297.598 Q52.3116 292.992 52.3116 284.265 Q52.3116 276.071 56.2004 271.21 Q60.0893 266.325 66.6402 266.325 Q68.3994 266.325 70.1818 266.673 Q71.9874 267.02 73.9318 267.714 Z\" fill=\"#000000\" fill-rule=\"evenodd\" fill-opacity=\"1\" /><path clip-path=\"url(#clip460)\" d=\"M 0 0 M53.9551 53.1333 L76.1772 53.1333 L76.1772 55.124 L63.6309 87.6933 L58.7467 87.6933 L70.5522 57.0685 L53.9551 57.0685 L53.9551 53.1333 Z\" fill=\"#000000\" fill-rule=\"evenodd\" fill-opacity=\"1\" /><polyline clip-path=\"url(#clip462)\" style=\"stroke:#009af9; stroke-width:4; stroke-opacity:1; fill:none\" points=\"\n",
       "  175.59,87.9763 185.911,105.923 196.232,123.652 291.667,277.724 387.102,415.351 444.455,490.889 501.807,561.472 550.298,617.525 598.789,670.454 704.138,775.5 \n",
       "  801.261,861.406 905.386,943.18 1026.03,1026.15 1133.24,1090.57 1227.25,1140.72 1329.75,1189.41 1432.86,1232.77 1546.86,1274.95 1655.33,1310.13 1768.11,1342.22 \n",
       "  1863.05,1366.11 1978.96,1391.86 2087.92,1413.05 2262.48,1441.8 2289.34,1445.72 \n",
       "  \"/>\n",
       "<path clip-path=\"url(#clip460)\" d=\"\n",
       "M1978.1 216.178 L2278.07 216.178 L2278.07 95.2176 L1978.1 95.2176  Z\n",
       "  \" fill=\"#ffffff\" fill-rule=\"evenodd\" fill-opacity=\"1\"/>\n",
       "<polyline clip-path=\"url(#clip460)\" style=\"stroke:#000000; stroke-width:4; stroke-opacity:1; fill:none\" points=\"\n",
       "  1978.1,216.178 2278.07,216.178 2278.07,95.2176 1978.1,95.2176 1978.1,216.178 \n",
       "  \"/>\n",
       "<polyline clip-path=\"url(#clip460)\" style=\"stroke:#009af9; stroke-width:4; stroke-opacity:1; fill:none\" points=\"\n",
       "  2002.99,155.698 2152.37,155.698 \n",
       "  \"/>\n",
       "<path clip-path=\"url(#clip460)\" d=\"M 0 0 M2191.1 175.385 Q2189.3 180.015 2187.59 181.427 Q2185.87 182.839 2183 182.839 L2179.6 182.839 L2179.6 179.274 L2182.1 179.274 Q2183.86 179.274 2184.83 178.44 Q2185.8 177.607 2186.98 174.505 L2187.75 172.561 L2177.26 147.052 L2181.77 147.052 L2189.88 167.329 L2197.98 147.052 L2202.49 147.052 L2191.1 175.385 Z\" fill=\"#000000\" fill-rule=\"evenodd\" fill-opacity=\"1\" /><path clip-path=\"url(#clip460)\" d=\"M 0 0 M2208.37 169.042 L2216.01 169.042 L2216.01 142.677 L2207.7 144.343 L2207.7 140.084 L2215.96 138.418 L2220.64 138.418 L2220.64 169.042 L2228.28 169.042 L2228.28 172.978 L2208.37 172.978 L2208.37 169.042 Z\" fill=\"#000000\" fill-rule=\"evenodd\" fill-opacity=\"1\" /></svg>\n"
      ]
     },
     "execution_count": 47,
     "metadata": {},
     "output_type": "execute_result"
    }
   ],
   "source": [
    "plot(f)"
   ]
  },
  {
   "cell_type": "markdown",
   "metadata": {},
   "source": [
    "### (b)\n",
    "\n",
    "Verdadeiro. Eles convergem para o valor 1.397548169234 como vemos abaixo"
   ]
  },
  {
   "cell_type": "code",
   "execution_count": 48,
   "metadata": {},
   "outputs": [
    {
     "name": "stdout",
     "output_type": "stream",
     "text": [
      "1.982 1.2021437675504394 1.5435831520475245\n",
      "1.2075656044881795 1.4675149998345143 1.3474455945662194\n",
      "1.4655271905778686 1.3733152209107973 1.415163450671621\n",
      "1.37399786269406 1.406040545816636 1.3914071500507537\n",
      "1.405800610784544 1.3945841904143172 1.3996954096222947\n",
      "1.3946678453238808 1.3985841288004526 1.3967981525921753\n",
      "1.3985548794991065 1.3971862652521887 1.3978102398993748\n",
      "1.39719648197007 1.3976746195163794 1.3974566081391195\n",
      "1.397671049609119 1.3975039898424593 1.39758015986057\n",
      "1.397505237082926 1.3975636050264875 1.3975369921685996\n",
      "1.3975631692520847 1.3975427761788262 1.3975520743615812\n",
      "1.3975429284321768 1.3975500534991698 1.397546804833994\n",
      "1.3975500003037513 1.3975475108966238 1.3975486459380673\n",
      "1.3975475294824051 1.3975483992488709 1.397548002680089\n",
      "1.3975483927552388 1.39754808887009 1.3975482274260829\n",
      "1.3975480911388811 1.3975481973124124 1.3975481489027437\n",
      "1.397548196519726 1.3975481594240697 1.3975481763377806\n",
      "1.3975481597010242 1.3975481726617658 1.3975481667523346\n",
      "1.3975481725650014 1.3975481680366864 1.397548170101365\n",
      "1.3975481680704946 1.397548169652629 1.3975481689312572\n",
      "1.397548169640817 1.3975481690880396 1.3975481693400778\n",
      "1.3975481690921667 1.3975481692853 1.3975481691972411\n",
      "1.397548169283858 1.3975481692163796 1.3975481692471463\n",
      "1.3975481692168836 1.3975481692404597 1.39754816922971\n",
      "1.3975481692402834 1.3975481692320466 1.3975481692358023\n",
      "1.397548169232108 1.3975481692349858 1.3975481692336735\n",
      "1.3975481692349643 1.3975481692339589 1.3975481692344174\n",
      "1.3975481692339664 1.3975481692343177 1.3975481692341576\n",
      "1.3975481692343152 1.3975481692341922 1.3975481692342482\n",
      "1.3975481692341931 1.3975481692342362 1.3975481692342167\n"
     ]
    }
   ],
   "source": [
    "x = 0.0\n",
    "y = 2.0\n",
    "z = 1.0\n",
    "for i = 1:30\n",
    "    x = f(x)\n",
    "    y = f(y)\n",
    "    z = f(z)\n",
    "    println(x, ' ', y, ' ', z)\n",
    "end"
   ]
  },
  {
   "cell_type": "markdown",
   "metadata": {},
   "source": [
    "### (c)"
   ]
  },
  {
   "cell_type": "code",
   "execution_count": 49,
   "metadata": {},
   "outputs": [
    {
     "data": {
      "text/plain": [
       "1.396081592479449"
      ]
     },
     "execution_count": 49,
     "metadata": {},
     "output_type": "execute_result"
    }
   ],
   "source": [
    "x = 1.3\n",
    "x_ant = 0\n",
    "\n",
    "while(abs(x-x_ant) > 1e-2)\n",
    "    x_ant = x\n",
    "    x = f(x)\n",
    "end\n",
    "\n",
    "x"
   ]
  },
  {
   "cell_type": "markdown",
   "metadata": {},
   "source": [
    "### (d)"
   ]
  },
  {
   "cell_type": "code",
   "execution_count": 50,
   "metadata": {},
   "outputs": [
    {
     "data": {
      "text/plain": [
       "fd (generic function with 1 method)"
      ]
     },
     "execution_count": 50,
     "metadata": {},
     "output_type": "execute_result"
    }
   ],
   "source": [
    "fd(x) = -0.4955ℯ^(-x/4)"
   ]
  },
  {
   "cell_type": "code",
   "execution_count": 52,
   "metadata": {},
   "outputs": [
    {
     "name": "stdout",
     "output_type": "stream",
     "text": [
      "num de iterações: 3\n"
     ]
    },
    {
     "data": {
      "text/plain": [
       "(13.3, 0.07129753216929757, :derivada_nula)"
      ]
     },
     "execution_count": 52,
     "metadata": {},
     "output_type": "execute_result"
    }
   ],
   "source": [
    "newton(f, fd, 1.3, atol = 1e-2, rtol = 1e-2)"
   ]
  },
  {
   "cell_type": "markdown",
   "metadata": {},
   "source": [
    "A função $\\frac{e^{\\frac{x}{4}}}{1.982\\:}$ diverge no método de Newton e por isso não é possível calcular uma aproximação"
   ]
  },
  {
   "cell_type": "markdown",
   "metadata": {},
   "source": [
    "# Questão 3"
   ]
  },
  {
   "cell_type": "markdown",
   "metadata": {},
   "source": [
    "O método de Newton encontra zero de funções progressivamente, e para aproximarmos $\\sqrt[3]{43}$ precisamos fazer uma função cujo  zero dela seja $\\sqrt[3]{43}$ pois iremos progressivamente nos aproximar deste valor"
   ]
  },
  {
   "cell_type": "markdown",
   "metadata": {},
   "source": [
    "Uma função simples que satisfará nossa condição é $\\left(x-\\sqrt[3]{43}\\right)^{2}$ pois quando $x=\\sqrt[3]{43}\\$ a função é zero"
   ]
  },
  {
   "cell_type": "code",
   "execution_count": 16,
   "metadata": {},
   "outputs": [
    {
     "data": {
      "image/svg+xml": [
       "<?xml version=\"1.0\" encoding=\"utf-8\"?>\n",
       "<svg xmlns=\"http://www.w3.org/2000/svg\" xmlns:xlink=\"http://www.w3.org/1999/xlink\" width=\"600\" height=\"400\" viewBox=\"0 0 2400 1600\">\n",
       "<defs>\n",
       "  <clipPath id=\"clip010\">\n",
       "    <rect x=\"0\" y=\"0\" width=\"2400\" height=\"1600\"/>\n",
       "  </clipPath>\n",
       "</defs>\n",
       "<path clip-path=\"url(#clip010)\" d=\"\n",
       "M0 1600 L2400 1600 L2400 0 L0 0  Z\n",
       "  \" fill=\"#ffffff\" fill-rule=\"evenodd\" fill-opacity=\"1\"/>\n",
       "<defs>\n",
       "  <clipPath id=\"clip011\">\n",
       "    <rect x=\"480\" y=\"0\" width=\"1681\" height=\"1600\"/>\n",
       "  </clipPath>\n",
       "</defs>\n",
       "<path clip-path=\"url(#clip010)\" d=\"\n",
       "M142.455 1486.45 L2352.76 1486.45 L2352.76 47.2441 L142.455 47.2441  Z\n",
       "  \" fill=\"#ffffff\" fill-rule=\"evenodd\" fill-opacity=\"1\"/>\n",
       "<defs>\n",
       "  <clipPath id=\"clip012\">\n",
       "    <rect x=\"142\" y=\"47\" width=\"2211\" height=\"1440\"/>\n",
       "  </clipPath>\n",
       "</defs>\n",
       "<polyline clip-path=\"url(#clip012)\" style=\"stroke:#000000; stroke-width:2; stroke-opacity:0.1; fill:none\" points=\"\n",
       "  142.455,1486.45 142.455,47.2441 \n",
       "  \"/>\n",
       "<polyline clip-path=\"url(#clip012)\" style=\"stroke:#000000; stroke-width:2; stroke-opacity:0.1; fill:none\" points=\"\n",
       "  584.515,1486.45 584.515,47.2441 \n",
       "  \"/>\n",
       "<polyline clip-path=\"url(#clip012)\" style=\"stroke:#000000; stroke-width:2; stroke-opacity:0.1; fill:none\" points=\"\n",
       "  1026.58,1486.45 1026.58,47.2441 \n",
       "  \"/>\n",
       "<polyline clip-path=\"url(#clip012)\" style=\"stroke:#000000; stroke-width:2; stroke-opacity:0.1; fill:none\" points=\"\n",
       "  1468.64,1486.45 1468.64,47.2441 \n",
       "  \"/>\n",
       "<polyline clip-path=\"url(#clip012)\" style=\"stroke:#000000; stroke-width:2; stroke-opacity:0.1; fill:none\" points=\"\n",
       "  1910.7,1486.45 1910.7,47.2441 \n",
       "  \"/>\n",
       "<polyline clip-path=\"url(#clip012)\" style=\"stroke:#000000; stroke-width:2; stroke-opacity:0.1; fill:none\" points=\"\n",
       "  2352.76,1486.45 2352.76,47.2441 \n",
       "  \"/>\n",
       "<polyline clip-path=\"url(#clip010)\" style=\"stroke:#000000; stroke-width:4; stroke-opacity:1; fill:none\" points=\"\n",
       "  142.455,1486.45 2352.76,1486.45 \n",
       "  \"/>\n",
       "<polyline clip-path=\"url(#clip010)\" style=\"stroke:#000000; stroke-width:4; stroke-opacity:1; fill:none\" points=\"\n",
       "  142.455,1486.45 142.455,1469.18 \n",
       "  \"/>\n",
       "<polyline clip-path=\"url(#clip010)\" style=\"stroke:#000000; stroke-width:4; stroke-opacity:1; fill:none\" points=\"\n",
       "  584.515,1486.45 584.515,1469.18 \n",
       "  \"/>\n",
       "<polyline clip-path=\"url(#clip010)\" style=\"stroke:#000000; stroke-width:4; stroke-opacity:1; fill:none\" points=\"\n",
       "  1026.58,1486.45 1026.58,1469.18 \n",
       "  \"/>\n",
       "<polyline clip-path=\"url(#clip010)\" style=\"stroke:#000000; stroke-width:4; stroke-opacity:1; fill:none\" points=\"\n",
       "  1468.64,1486.45 1468.64,1469.18 \n",
       "  \"/>\n",
       "<polyline clip-path=\"url(#clip010)\" style=\"stroke:#000000; stroke-width:4; stroke-opacity:1; fill:none\" points=\"\n",
       "  1910.7,1486.45 1910.7,1469.18 \n",
       "  \"/>\n",
       "<polyline clip-path=\"url(#clip010)\" style=\"stroke:#000000; stroke-width:4; stroke-opacity:1; fill:none\" points=\"\n",
       "  2352.76,1486.45 2352.76,1469.18 \n",
       "  \"/>\n",
       "<path clip-path=\"url(#clip010)\" d=\"M 0 0 M132.837 1543.18 L140.476 1543.18 L140.476 1516.82 L132.165 1518.49 L132.165 1514.23 L140.429 1512.56 L145.105 1512.56 L145.105 1543.18 L152.744 1543.18 L152.744 1547.12 L132.837 1547.12 L132.837 1543.18 Z\" fill=\"#000000\" fill-rule=\"evenodd\" fill-opacity=\"1\" /><path clip-path=\"url(#clip010)\" d=\"M 0 0 M579.168 1543.18 L595.487 1543.18 L595.487 1547.12 L573.543 1547.12 L573.543 1543.18 Q576.205 1540.43 580.788 1535.8 Q585.395 1531.15 586.575 1529.81 Q588.821 1527.28 589.7 1525.55 Q590.603 1523.79 590.603 1522.1 Q590.603 1519.34 588.659 1517.61 Q586.737 1515.87 583.635 1515.87 Q581.436 1515.87 578.983 1516.63 Q576.552 1517.4 573.774 1518.95 L573.774 1514.23 Q576.598 1513.09 579.052 1512.51 Q581.506 1511.93 583.543 1511.93 Q588.913 1511.93 592.108 1514.62 Q595.302 1517.31 595.302 1521.8 Q595.302 1523.93 594.492 1525.85 Q593.705 1527.74 591.598 1530.34 Q591.02 1531.01 587.918 1534.23 Q584.816 1537.42 579.168 1543.18 Z\" fill=\"#000000\" fill-rule=\"evenodd\" fill-opacity=\"1\" /><path clip-path=\"url(#clip010)\" d=\"M 0 0 M1030.82 1528.49 Q1034.18 1529.2 1036.05 1531.47 Q1037.95 1533.74 1037.95 1537.07 Q1037.95 1542.19 1034.43 1544.99 Q1030.92 1547.79 1024.43 1547.79 Q1022.26 1547.79 1019.94 1547.35 Q1017.65 1546.93 1015.2 1546.08 L1015.2 1541.56 Q1017.14 1542.7 1019.46 1543.28 Q1021.77 1543.86 1024.3 1543.86 Q1028.69 1543.86 1030.98 1542.12 Q1033.3 1540.38 1033.3 1537.07 Q1033.3 1534.02 1031.15 1532.31 Q1029.02 1530.57 1025.2 1530.57 L1021.17 1530.57 L1021.17 1526.73 L1025.38 1526.73 Q1028.83 1526.73 1030.66 1525.36 Q1032.49 1523.97 1032.49 1521.38 Q1032.49 1518.72 1030.59 1517.31 Q1028.72 1515.87 1025.2 1515.87 Q1023.28 1515.87 1021.08 1516.29 Q1018.88 1516.7 1016.24 1517.58 L1016.24 1513.42 Q1018.9 1512.68 1021.22 1512.31 Q1023.55 1511.93 1025.61 1511.93 Q1030.94 1511.93 1034.04 1514.37 Q1037.14 1516.77 1037.14 1520.89 Q1037.14 1523.76 1035.5 1525.75 Q1033.86 1527.72 1030.82 1528.49 Z\" fill=\"#000000\" fill-rule=\"evenodd\" fill-opacity=\"1\" /><path clip-path=\"url(#clip010)\" d=\"M 0 0 M1471.64 1516.63 L1459.84 1535.08 L1471.64 1535.08 L1471.64 1516.63 M1470.42 1512.56 L1476.3 1512.56 L1476.3 1535.08 L1481.23 1535.08 L1481.23 1538.97 L1476.3 1538.97 L1476.3 1547.12 L1471.64 1547.12 L1471.64 1538.97 L1456.04 1538.97 L1456.04 1534.46 L1470.42 1512.56 Z\" fill=\"#000000\" fill-rule=\"evenodd\" fill-opacity=\"1\" /><path clip-path=\"url(#clip010)\" d=\"M 0 0 M1900.97 1512.56 L1919.33 1512.56 L1919.33 1516.5 L1905.26 1516.5 L1905.26 1524.97 Q1906.27 1524.62 1907.29 1524.46 Q1908.31 1524.27 1909.33 1524.27 Q1915.12 1524.27 1918.5 1527.44 Q1921.88 1530.62 1921.88 1536.03 Q1921.88 1541.61 1918.4 1544.71 Q1914.93 1547.79 1908.61 1547.79 Q1906.44 1547.79 1904.17 1547.42 Q1901.92 1547.05 1899.52 1546.31 L1899.52 1541.61 Q1901.6 1542.74 1903.82 1543.3 Q1906.04 1543.86 1908.52 1543.86 Q1912.52 1543.86 1914.86 1541.75 Q1917.2 1539.64 1917.2 1536.03 Q1917.2 1532.42 1914.86 1530.31 Q1912.52 1528.21 1908.52 1528.21 Q1906.64 1528.21 1904.77 1528.62 Q1902.92 1529.04 1900.97 1529.92 L1900.97 1512.56 Z\" fill=\"#000000\" fill-rule=\"evenodd\" fill-opacity=\"1\" /><path clip-path=\"url(#clip010)\" d=\"M 0 0 M2353.16 1527.98 Q2350.01 1527.98 2348.16 1530.13 Q2346.33 1532.28 2346.33 1536.03 Q2346.33 1539.76 2348.16 1541.93 Q2350.01 1544.09 2353.16 1544.09 Q2356.31 1544.09 2358.14 1541.93 Q2359.99 1539.76 2359.99 1536.03 Q2359.99 1532.28 2358.14 1530.13 Q2356.31 1527.98 2353.16 1527.98 M2362.44 1513.32 L2362.44 1517.58 Q2360.68 1516.75 2358.88 1516.31 Q2357.1 1515.87 2355.34 1515.87 Q2350.71 1515.87 2348.25 1519 Q2345.82 1522.12 2345.48 1528.44 Q2346.84 1526.43 2348.9 1525.36 Q2350.96 1524.27 2353.44 1524.27 Q2358.65 1524.27 2361.66 1527.44 Q2364.69 1530.59 2364.69 1536.03 Q2364.69 1541.36 2361.54 1544.57 Q2358.39 1547.79 2353.16 1547.79 Q2347.17 1547.79 2343.99 1543.21 Q2340.82 1538.6 2340.82 1529.87 Q2340.82 1521.68 2344.71 1516.82 Q2348.6 1511.93 2355.15 1511.93 Q2356.91 1511.93 2358.69 1512.28 Q2360.5 1512.63 2362.44 1513.32 Z\" fill=\"#000000\" fill-rule=\"evenodd\" fill-opacity=\"1\" /><polyline clip-path=\"url(#clip012)\" style=\"stroke:#000000; stroke-width:2; stroke-opacity:0.1; fill:none\" points=\"\n",
       "  142.455,1486.45 2352.76,1486.45 \n",
       "  \"/>\n",
       "<polyline clip-path=\"url(#clip012)\" style=\"stroke:#000000; stroke-width:2; stroke-opacity:0.1; fill:none\" points=\"\n",
       "  142.455,1246.58 2352.76,1246.58 \n",
       "  \"/>\n",
       "<polyline clip-path=\"url(#clip012)\" style=\"stroke:#000000; stroke-width:2; stroke-opacity:0.1; fill:none\" points=\"\n",
       "  142.455,1006.71 2352.76,1006.71 \n",
       "  \"/>\n",
       "<polyline clip-path=\"url(#clip012)\" style=\"stroke:#000000; stroke-width:2; stroke-opacity:0.1; fill:none\" points=\"\n",
       "  142.455,766.846 2352.76,766.846 \n",
       "  \"/>\n",
       "<polyline clip-path=\"url(#clip012)\" style=\"stroke:#000000; stroke-width:2; stroke-opacity:0.1; fill:none\" points=\"\n",
       "  142.455,526.979 2352.76,526.979 \n",
       "  \"/>\n",
       "<polyline clip-path=\"url(#clip012)\" style=\"stroke:#000000; stroke-width:2; stroke-opacity:0.1; fill:none\" points=\"\n",
       "  142.455,287.111 2352.76,287.111 \n",
       "  \"/>\n",
       "<polyline clip-path=\"url(#clip012)\" style=\"stroke:#000000; stroke-width:2; stroke-opacity:0.1; fill:none\" points=\"\n",
       "  142.455,47.2441 2352.76,47.2441 \n",
       "  \"/>\n",
       "<polyline clip-path=\"url(#clip010)\" style=\"stroke:#000000; stroke-width:4; stroke-opacity:1; fill:none\" points=\"\n",
       "  142.455,1486.45 142.455,47.2441 \n",
       "  \"/>\n",
       "<polyline clip-path=\"url(#clip010)\" style=\"stroke:#000000; stroke-width:4; stroke-opacity:1; fill:none\" points=\"\n",
       "  142.455,1486.45 168.978,1486.45 \n",
       "  \"/>\n",
       "<polyline clip-path=\"url(#clip010)\" style=\"stroke:#000000; stroke-width:4; stroke-opacity:1; fill:none\" points=\"\n",
       "  142.455,1246.58 168.978,1246.58 \n",
       "  \"/>\n",
       "<polyline clip-path=\"url(#clip010)\" style=\"stroke:#000000; stroke-width:4; stroke-opacity:1; fill:none\" points=\"\n",
       "  142.455,1006.71 168.978,1006.71 \n",
       "  \"/>\n",
       "<polyline clip-path=\"url(#clip010)\" style=\"stroke:#000000; stroke-width:4; stroke-opacity:1; fill:none\" points=\"\n",
       "  142.455,766.846 168.978,766.846 \n",
       "  \"/>\n",
       "<polyline clip-path=\"url(#clip010)\" style=\"stroke:#000000; stroke-width:4; stroke-opacity:1; fill:none\" points=\"\n",
       "  142.455,526.979 168.978,526.979 \n",
       "  \"/>\n",
       "<polyline clip-path=\"url(#clip010)\" style=\"stroke:#000000; stroke-width:4; stroke-opacity:1; fill:none\" points=\"\n",
       "  142.455,287.111 168.978,287.111 \n",
       "  \"/>\n",
       "<polyline clip-path=\"url(#clip010)\" style=\"stroke:#000000; stroke-width:4; stroke-opacity:1; fill:none\" points=\"\n",
       "  142.455,47.2441 168.978,47.2441 \n",
       "  \"/>\n",
       "<path clip-path=\"url(#clip010)\" d=\"M 0 0 M50.9921 1486.9 L80.6679 1486.9 L80.6679 1490.83 L50.9921 1490.83 L50.9921 1486.9 Z\" fill=\"#000000\" fill-rule=\"evenodd\" fill-opacity=\"1\" /><path clip-path=\"url(#clip010)\" d=\"M 0 0 M86.5475 1499.79 L94.1863 1499.79 L94.1863 1473.43 L85.8762 1475.09 L85.8762 1470.83 L94.14 1469.17 L98.8159 1469.17 L98.8159 1499.79 L106.455 1499.79 L106.455 1503.73 L86.5475 1503.73 L86.5475 1499.79 Z\" fill=\"#000000\" fill-rule=\"evenodd\" fill-opacity=\"1\" /><path clip-path=\"url(#clip010)\" d=\"M 0 0 M94.5104 1232.38 Q90.8993 1232.38 89.0706 1235.94 Q87.2651 1239.49 87.2651 1246.62 Q87.2651 1253.72 89.0706 1257.29 Q90.8993 1260.83 94.5104 1260.83 Q98.1447 1260.83 99.9502 1257.29 Q101.779 1253.72 101.779 1246.62 Q101.779 1239.49 99.9502 1235.94 Q98.1447 1232.38 94.5104 1232.38 M94.5104 1228.68 Q100.321 1228.68 103.376 1233.28 Q106.455 1237.87 106.455 1246.62 Q106.455 1255.34 103.376 1259.95 Q100.321 1264.53 94.5104 1264.53 Q88.7003 1264.53 85.6216 1259.95 Q82.566 1255.34 82.566 1246.62 Q82.566 1237.87 85.6216 1233.28 Q88.7003 1228.68 94.5104 1228.68 Z\" fill=\"#000000\" fill-rule=\"evenodd\" fill-opacity=\"1\" /><path clip-path=\"url(#clip010)\" d=\"M 0 0 M86.5475 1020.06 L94.1863 1020.06 L94.1863 993.693 L85.8762 995.359 L85.8762 991.1 L94.14 989.433 L98.8159 989.433 L98.8159 1020.06 L106.455 1020.06 L106.455 1023.99 L86.5475 1023.99 L86.5475 1020.06 Z\" fill=\"#000000\" fill-rule=\"evenodd\" fill-opacity=\"1\" /><path clip-path=\"url(#clip010)\" d=\"M 0 0 M90.1354 780.191 L106.455 780.191 L106.455 784.126 L84.5105 784.126 L84.5105 780.191 Q87.1725 777.436 91.7558 772.807 Q96.3623 768.154 97.5428 766.811 Q99.7882 764.288 100.668 762.552 Q101.571 760.793 101.571 759.103 Q101.571 756.348 99.6261 754.612 Q97.7048 752.876 94.603 752.876 Q92.4039 752.876 89.9503 753.64 Q87.5197 754.404 84.7419 755.955 L84.7419 751.233 Q87.566 750.098 90.0197 749.52 Q92.4734 748.941 94.5104 748.941 Q99.8808 748.941 103.075 751.626 Q106.27 754.311 106.27 758.802 Q106.27 760.932 105.459 762.853 Q104.672 764.751 102.566 767.344 Q101.987 768.015 98.8854 771.233 Q95.7836 774.427 90.1354 780.191 Z\" fill=\"#000000\" fill-rule=\"evenodd\" fill-opacity=\"1\" /><path clip-path=\"url(#clip010)\" d=\"M 0 0 M99.3252 525.625 Q102.682 526.342 104.557 528.611 Q106.455 530.879 106.455 534.212 Q106.455 539.328 102.936 542.129 Q99.4178 544.93 92.9363 544.93 Q90.7604 544.93 88.4456 544.49 Q86.154 544.074 83.7003 543.217 L83.7003 538.703 Q85.6447 539.837 87.9595 540.416 Q90.2743 540.995 92.7975 540.995 Q97.1956 540.995 99.4872 539.259 Q101.802 537.523 101.802 534.212 Q101.802 531.157 99.6493 529.444 Q97.5197 527.708 93.7002 527.708 L89.6725 527.708 L89.6725 523.865 L93.8854 523.865 Q97.3345 523.865 99.1632 522.5 Q100.992 521.111 100.992 518.518 Q100.992 515.856 99.0937 514.444 Q97.2187 513.009 93.7002 513.009 Q91.7789 513.009 89.5799 513.426 Q87.3808 513.842 84.7419 514.722 L84.7419 510.555 Q87.404 509.814 89.7188 509.444 Q92.0567 509.074 94.1169 509.074 Q99.4409 509.074 102.543 511.504 Q105.645 513.912 105.645 518.032 Q105.645 520.902 104.001 522.893 Q102.358 524.861 99.3252 525.625 Z\" fill=\"#000000\" fill-rule=\"evenodd\" fill-opacity=\"1\" /><path clip-path=\"url(#clip010)\" d=\"M 0 0 M96.8715 273.905 L85.066 292.354 L96.8715 292.354 L96.8715 273.905 M95.6447 269.831 L101.524 269.831 L101.524 292.354 L106.455 292.354 L106.455 296.243 L101.524 296.243 L101.524 304.391 L96.8715 304.391 L96.8715 296.243 L81.2697 296.243 L81.2697 291.729 L95.6447 269.831 Z\" fill=\"#000000\" fill-rule=\"evenodd\" fill-opacity=\"1\" /><path clip-path=\"url(#clip010)\" d=\"M 0 0 M85.5521 29.9641 L103.909 29.9641 L103.909 33.8993 L89.8345 33.8993 L89.8345 42.3714 Q90.853 42.0242 91.8715 41.8622 Q92.89 41.677 93.9086 41.677 Q99.6956 41.677 103.075 44.8483 Q106.455 48.0196 106.455 53.4362 Q106.455 59.0149 102.983 62.1167 Q99.5104 65.1954 93.191 65.1954 Q91.0151 65.1954 88.7466 64.825 Q86.5012 64.4547 84.0938 63.7139 L84.0938 59.0149 Q86.1771 60.1491 88.3993 60.7047 Q90.6215 61.2602 93.0984 61.2602 Q97.103 61.2602 99.4409 59.1538 Q101.779 57.0473 101.779 53.4362 Q101.779 49.8251 99.4409 47.7186 Q97.103 45.6122 93.0984 45.6122 Q91.2234 45.6122 89.3484 46.0288 Q87.4966 46.4455 85.5521 47.3251 L85.5521 29.9641 Z\" fill=\"#000000\" fill-rule=\"evenodd\" fill-opacity=\"1\" /><polyline clip-path=\"url(#clip012)\" style=\"stroke:#009af9; stroke-width:4; stroke-opacity:1; fill:none\" points=\"\n",
       "  142.455,-256.668 153.247,-227.49 164.04,-198.598 263.834,55.0052 363.628,284.16 423.6,410.112 483.573,527.234 534.278,619.371 584.984,705.196 640.064,791.274 \n",
       "  695.145,869.904 745.924,935.795 796.704,995.357 851.145,1052.18 905.585,1101.73 968.661,1150.04 1031.74,1188.58 1087.79,1214.64 1143.84,1232.98 1193,1242.72 \n",
       "  1242.15,1246.52 1295.74,1243.91 1349.33,1234.25 1403.24,1217.42 1457.15,1193.45 1516.76,1158.65 1576.36,1115.13 1633.07,1065.62 1689.78,1008.21 1748.75,940.153 \n",
       "  1807.72,863.557 1857.36,792.462 1906.99,715.319 1967.59,612.935 2028.2,501.535 2085.16,388.595 2142.13,267.688 2233.4,57.38 2324.66,-173.377 2338.71,-210.705 \n",
       "  2352.76,-248.517 \n",
       "  \"/>\n",
       "<polyline clip-path=\"url(#clip012)\" style=\"stroke:#e26f46; stroke-width:4; stroke-opacity:1; fill:none\" points=\"\n",
       "  142.455,1246.58 164.04,1246.58 363.628,1246.58 483.573,1246.58 584.984,1246.58 695.145,1246.58 796.704,1246.58 905.585,1246.58 1031.74,1246.58 1143.84,1246.58 \n",
       "  1242.15,1246.58 1349.33,1246.58 1457.15,1246.58 1576.36,1246.58 1689.78,1246.58 1807.72,1246.58 1906.99,1246.58 2028.2,1246.58 2142.13,1246.58 2324.66,1246.58 \n",
       "  2352.76,1246.58 \n",
       "  \"/>\n",
       "<path clip-path=\"url(#clip010)\" d=\"\n",
       "M1982.47 276.658 L2279.08 276.658 L2279.08 95.2176 L1982.47 95.2176  Z\n",
       "  \" fill=\"#ffffff\" fill-rule=\"evenodd\" fill-opacity=\"1\"/>\n",
       "<polyline clip-path=\"url(#clip010)\" style=\"stroke:#000000; stroke-width:4; stroke-opacity:1; fill:none\" points=\"\n",
       "  1982.47,276.658 2279.08,276.658 2279.08,95.2176 1982.47,95.2176 1982.47,276.658 \n",
       "  \"/>\n",
       "<polyline clip-path=\"url(#clip010)\" style=\"stroke:#009af9; stroke-width:4; stroke-opacity:1; fill:none\" points=\"\n",
       "  2007.03,155.698 2154.38,155.698 \n",
       "  \"/>\n",
       "<path clip-path=\"url(#clip010)\" d=\"M 0 0 M2192.79 175.385 Q2190.98 180.015 2189.27 181.427 Q2187.55 182.839 2184.68 182.839 L2181.28 182.839 L2181.28 179.274 L2183.78 179.274 Q2185.54 179.274 2186.51 178.44 Q2187.48 177.607 2188.67 174.505 L2189.43 172.561 L2178.94 147.052 L2183.46 147.052 L2191.56 167.329 L2199.66 147.052 L2204.17 147.052 L2192.79 175.385 Z\" fill=\"#000000\" fill-rule=\"evenodd\" fill-opacity=\"1\" /><path clip-path=\"url(#clip010)\" d=\"M 0 0 M2210.05 169.042 L2217.69 169.042 L2217.69 142.677 L2209.38 144.343 L2209.38 140.084 L2217.65 138.418 L2222.32 138.418 L2222.32 169.042 L2229.96 169.042 L2229.96 172.978 L2210.05 172.978 L2210.05 169.042 Z\" fill=\"#000000\" fill-rule=\"evenodd\" fill-opacity=\"1\" /><polyline clip-path=\"url(#clip010)\" style=\"stroke:#e26f46; stroke-width:4; stroke-opacity:1; fill:none\" points=\"\n",
       "  2007.03,216.178 2154.38,216.178 \n",
       "  \"/>\n",
       "<path clip-path=\"url(#clip010)\" d=\"M 0 0 M2192.79 235.865 Q2190.98 240.495 2189.27 241.907 Q2187.55 243.319 2184.68 243.319 L2181.28 243.319 L2181.28 239.754 L2183.78 239.754 Q2185.54 239.754 2186.51 238.92 Q2187.48 238.087 2188.67 234.985 L2189.43 233.041 L2178.94 207.532 L2183.46 207.532 L2191.56 227.809 L2199.66 207.532 L2204.17 207.532 L2192.79 235.865 Z\" fill=\"#000000\" fill-rule=\"evenodd\" fill-opacity=\"1\" /><path clip-path=\"url(#clip010)\" d=\"M 0 0 M2213.27 229.522 L2229.59 229.522 L2229.59 233.458 L2207.65 233.458 L2207.65 229.522 Q2210.31 226.768 2214.89 222.138 Q2219.5 217.485 2220.68 216.143 Q2222.92 213.62 2223.8 211.884 Q2224.71 210.124 2224.71 208.435 Q2224.71 205.68 2222.76 203.944 Q2220.84 202.208 2217.74 202.208 Q2215.54 202.208 2213.09 202.972 Q2210.66 203.735 2207.88 205.286 L2207.88 200.564 Q2210.7 199.43 2213.16 198.851 Q2215.61 198.273 2217.65 198.273 Q2223.02 198.273 2226.21 200.958 Q2229.41 203.643 2229.41 208.134 Q2229.41 210.263 2228.6 212.185 Q2227.81 214.083 2225.7 216.675 Q2225.12 217.347 2222.02 220.564 Q2218.92 223.759 2213.27 229.522 Z\" fill=\"#000000\" fill-rule=\"evenodd\" fill-opacity=\"1\" /></svg>\n"
      ]
     },
     "execution_count": 16,
     "metadata": {},
     "output_type": "execute_result"
    }
   ],
   "source": [
    "f(x) = (x - cbrt(43))^2\n",
    "fd(x) = 2 * (x - cbrt(43))\n",
    "plot(f, 1.0, 6.0)\n",
    "xlims!(1.0, 6.0)\n",
    "ylims!(-1.0, 5.0)\n",
    "plot!(zero, 1.0, 6.0)"
   ]
  },
  {
   "cell_type": "code",
   "execution_count": 17,
   "metadata": {},
   "outputs": [
    {
     "name": "stdout",
     "output_type": "stream",
     "text": [
      "num de iterações: 13\n"
     ]
    },
    {
     "data": {
      "text/plain": [
       "(3.503336610428181, 3.776097404985888e-9, :sucesso)"
      ]
     },
     "execution_count": 17,
     "metadata": {},
     "output_type": "execute_result"
    }
   ],
   "source": [
    "# chutando o valor inicial igual à 3\n",
    "a, b, c = newton(f, fd, 3.0)"
   ]
  },
  {
   "cell_type": "code",
   "execution_count": 18,
   "metadata": {},
   "outputs": [
    {
     "data": {
      "text/plain": [
       "6.144995854340252e-5"
      ]
     },
     "execution_count": 18,
     "metadata": {},
     "output_type": "execute_result"
    }
   ],
   "source": [
    "abs(a - cbrt(43))"
   ]
  },
  {
   "cell_type": "markdown",
   "metadata": {},
   "source": [
    "# Questão 4"
   ]
  },
  {
   "cell_type": "markdown",
   "metadata": {},
   "source": [
    "Como mostrado na imagem abaixo, partindo do teorema do método de Newton $x_{k+1}=x_k-\\frac{f\\left(x_k\\right)}{f\\:'\\left(x_k\\right)}$ substituindo com os valores alternados 1,2 chegamos em duas equações que nos dão as condições para a alternância acontecer, escolhemos um valor arbitrário e substituimos na nossa equação quadrática genérica."
   ]
  },
  {
   "cell_type": "markdown",
   "metadata": {},
   "source": [
    "![image.png](https://i.ibb.co/3R03xH2/quest-o4.jpg)"
   ]
  },
  {
   "cell_type": "code",
   "execution_count": 19,
   "metadata": {},
   "outputs": [
    {
     "name": "stdout",
     "output_type": "stream",
     "text": [
      "num de iterações: 1000\n"
     ]
    },
    {
     "data": {
      "text/plain": [
       "(1.0, 1.0, :max_iter)"
      ]
     },
     "execution_count": 19,
     "metadata": {},
     "output_type": "execute_result"
    }
   ],
   "source": [
    "f(x) = x^2 - 3x + 3\n",
    "fd(x) = 2x - 3\n",
    "newton(f, fd, 1.0)"
   ]
  },
  {
   "cell_type": "markdown",
   "metadata": {},
   "source": [
    "Como esperado o algoritmo nunca vai sair da alternância e só para no número máximo de iterações"
   ]
  }
 ],
 "metadata": {
  "kernelspec": {
   "display_name": "Julia 1.5.3",
   "language": "julia",
   "name": "julia-1.5"
  },
  "language_info": {
   "file_extension": ".jl",
   "mimetype": "application/julia",
   "name": "julia",
   "version": "1.5.3"
  }
 },
 "nbformat": 4,
 "nbformat_minor": 4
}
