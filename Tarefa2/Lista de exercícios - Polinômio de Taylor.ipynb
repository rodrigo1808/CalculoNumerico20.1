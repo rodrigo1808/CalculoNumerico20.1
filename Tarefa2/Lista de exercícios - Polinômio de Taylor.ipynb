{
 "cells": [
  {
   "cell_type": "markdown",
   "metadata": {},
   "source": [
    "# Questão 2\n",
    "Seja f : [−a, a] → R a função definida por f(x) = e^x"
   ]
  },
  {
   "cell_type": "markdown",
   "metadata": {},
   "source": [
    "## (a)\n",
    "Calcule o polinômio de Taylor P2(x) de ordem dois de f(x) na origem."
   ]
  },
  {
   "attachments": {
    "image.png": {
     "image/png": "[encoded data removed]"
    }
   },
   "cell_type": "markdown",
   "metadata": {},
   "source": [
    "As derivadas da função e^x são ela própia, logo o polinômio de grau 2 é:\n",
    "![image.png](attachment:image.png)"
   ]
  },
  {
   "cell_type": "markdown",
   "metadata": {},
   "source": [
    "## (b)\n",
    "Qual o maior valor de a para o qual podemos usar P2(x) para aproximar f(x) com erro inferior a 0.005 em todo o intervalo [−a, a]?"
   ]
  },
  {
   "cell_type": "code",
   "execution_count": 54,
   "metadata": {},
   "outputs": [
    {
     "data": {
      "text/plain": [
       "exp1 (generic function with 1 method)"
      ]
     },
     "execution_count": 54,
     "metadata": {},
     "output_type": "execute_result"
    }
   ],
   "source": [
    "# Função retirada do código da aula do Abel sobre Polinômio de Taylor\n",
    "function exp1(x, n)\n",
    "    s = 1.0\n",
    "    for k = 1:n\n",
    "        s += x^k / factorial(BigInt(k))\n",
    "    end\n",
    "    return s\n",
    "end"
   ]
  },
  {
   "cell_type": "code",
   "execution_count": 55,
   "metadata": {},
   "outputs": [
    {
     "data": {
      "text/plain": [
       "1.15265312499999998674393708597563090734183788299560546875"
      ]
     },
     "execution_count": 55,
     "metadata": {},
     "output_type": "execute_result"
    }
   ],
   "source": [
    "exp1(0.1425,2)"
   ]
  },
  {
   "cell_type": "code",
   "execution_count": 56,
   "metadata": {},
   "outputs": [
    {
     "data": {
      "text/plain": [
       "1.1531530809573696"
      ]
     },
     "execution_count": 56,
     "metadata": {},
     "output_type": "execute_result"
    }
   ],
   "source": [
    "exp(0.1425)"
   ]
  },
  {
   "cell_type": "code",
   "execution_count": 57,
   "metadata": {},
   "outputs": [
    {
     "data": {
      "text/plain": [
       "0.00049995595736958275967509734982741065323352813720703125"
      ]
     },
     "execution_count": 57,
     "metadata": {},
     "output_type": "execute_result"
    }
   ],
   "source": [
    "abs(exp1(0.1425,2) - exp(0.1425))"
   ]
  },
  {
   "cell_type": "markdown",
   "metadata": {},
   "source": [
    "Após testar alguns valores parece converger para 0.1425 o maior valor de **a** possível."
   ]
  },
  {
   "cell_type": "code",
   "execution_count": 53,
   "metadata": {},
   "outputs": [
    {
     "data": {
      "text/plain": [
       "true"
      ]
     },
     "execution_count": 53,
     "metadata": {},
     "output_type": "execute_result"
    }
   ],
   "source": [
    "abs(exp1(0.1425,2) - exp(0.1425)) < 0.0005"
   ]
  },
  {
   "cell_type": "markdown",
   "metadata": {},
   "source": [
    "# Questão 3"
   ]
  },
  {
   "cell_type": "markdown",
   "metadata": {},
   "source": [
    "## (a)"
   ]
  },
  {
   "cell_type": "code",
   "execution_count": 145,
   "metadata": {},
   "outputs": [
    {
     "data": {
      "text/plain": [
       "seno (generic function with 2 methods)"
      ]
     },
     "execution_count": 145,
     "metadata": {},
     "output_type": "execute_result"
    }
   ],
   "source": [
    "function seno(x, n, erro)\n",
    "    s = 0.0\n",
    "    i = 1\n",
    "    sinal = 1\n",
    "    while (i < n && abs(s - sin(x)) > erro)\n",
    "        s += sinal * (x^i / factorial(BigInt(i)))\n",
    "        i+=2\n",
    "        sinal = sinal * (-1)\n",
    "    end\n",
    "    \n",
    "    return s, \"Número de termos usados: $i\"\n",
    "end"
   ]
  },
  {
   "cell_type": "code",
   "execution_count": 146,
   "metadata": {},
   "outputs": [
    {
     "data": {
      "text/plain": [
       "(0.8414709848078965148536032445151648388498684172509258099049571193984514868423895, \"Número de termos usados: 19\")"
      ]
     },
     "execution_count": 146,
     "metadata": {},
     "output_type": "execute_result"
    }
   ],
   "source": [
    "seno(1, 200, 1e-15)"
   ]
  },
  {
   "cell_type": "markdown",
   "metadata": {},
   "source": [
    "## (b)"
   ]
  },
  {
   "cell_type": "code",
   "execution_count": 147,
   "metadata": {},
   "outputs": [
    {
     "data": {
      "text/plain": [
       "(0.9092974515196737418959641181863404085626307848530070752292974515196737418959586, \"Número de termos usados: 15\")"
      ]
     },
     "execution_count": 147,
     "metadata": {},
     "output_type": "execute_result"
    }
   ],
   "source": [
    "seno(2, 200, 10e-7)"
   ]
  },
  {
   "cell_type": "markdown",
   "metadata": {},
   "source": [
    "# Questão 5\n",
    "Seja f(x) = ln(x + 1). Aproxime f(1.5) usando o polinômio de Taylor de terceira ordem. Quantos dígitos corretos possui a aproximação? Quantos termos deve ter o polinˆomio para o erro de truncamento ser menor que 10^−8?"
   ]
  },
  {
   "attachments": {
    "image.png": {
     "image/png": "[encoded data removed]"
    }
   },
   "cell_type": "markdown",
   "metadata": {},
   "source": [
    "Padrão dos termos do polinômio de Taylor da função ln(x+1) em torno de 0:\n",
    "![image.png](attachment:image.png)\n",
    "\n",
    "Dado a visualização desses termos iniciais conclui-se que o padrão é ∑ x^i / i , com os sinais alternando por termo"
   ]
  },
  {
   "cell_type": "code",
   "execution_count": 224,
   "metadata": {},
   "outputs": [
    {
     "data": {
      "text/plain": [
       "ln (generic function with 1 method)"
      ]
     },
     "execution_count": 224,
     "metadata": {},
     "output_type": "execute_result"
    }
   ],
   "source": [
    "function ln(x, n, erro)\n",
    "    s = x\n",
    "    i = 0\n",
    "    sinal = -1\n",
    "    while (i < n && abs(s - log(x)) > erro)\n",
    "        s += sinal * (x^(i+2.0) / (i+2.0))\n",
    "        i+=1\n",
    "        sinal = sinal * (-1)\n",
    "    end\n",
    "    erroFinal = abs(s - log(x))\n",
    "    return s, \"erro $erroFinal\", \"Número de termos usados: $i\"\n",
    "end"
   ]
  },
  {
   "cell_type": "code",
   "execution_count": 225,
   "metadata": {},
   "outputs": [
    {
     "data": {
      "text/plain": [
       "0.4054651081081644"
      ]
     },
     "execution_count": 225,
     "metadata": {},
     "output_type": "execute_result"
    }
   ],
   "source": [
    "log(1.5)"
   ]
  },
  {
   "cell_type": "code",
   "execution_count": 226,
   "metadata": {
    "scrolled": true
   },
   "outputs": [
    {
     "data": {
      "text/plain": [
       "(0.234375, \"erro 0.17109010810816438\", \"Número de termos usados: 3\")"
      ]
     },
     "execution_count": 226,
     "metadata": {},
     "output_type": "execute_result"
    }
   ],
   "source": [
    "ln(1.5, 3, 0)"
   ]
  },
  {
   "cell_type": "markdown",
   "metadata": {},
   "source": [
    "A aproximação acertou apenas no dígito do inteiro, nos decimais errou desde o primeiro decimal"
   ]
  },
  {
   "cell_type": "code",
   "execution_count": 227,
   "metadata": {},
   "outputs": [
    {
     "data": {
      "text/plain": [
       "(1.116356200998004e7, \"erro 1.1163561604514932e7\", \"Número de termos usados: 50\")"
      ]
     },
     "execution_count": 227,
     "metadata": {},
     "output_type": "execute_result"
    }
   ],
   "source": [
    "ln(1.5, 50, 10e-8)"
   ]
  },
  {
   "cell_type": "code",
   "execution_count": 228,
   "metadata": {},
   "outputs": [
    {
     "data": {
      "text/plain": [
       "(3.608446775186508e15, \"erro 3.6084467751865075e15\", \"Número de termos usados: 100\")"
      ]
     },
     "execution_count": 228,
     "metadata": {},
     "output_type": "execute_result"
    }
   ],
   "source": [
    "ln(1.5, 100, 10e-8)"
   ]
  },
  {
   "cell_type": "markdown",
   "metadata": {},
   "source": [
    "Podemos perceber que esse erro nunca será alcançado pois a soma de termos quando muito grande piora a aproximação"
   ]
  }
 ],
 "metadata": {
  "kernelspec": {
   "display_name": "Julia 1.5.3",
   "language": "julia",
   "name": "julia-1.5"
  },
  "language_info": {
   "file_extension": ".jl",
   "mimetype": "application/julia",
   "name": "julia",
   "version": "1.5.3"
  }
 },
 "nbformat": 4,
 "nbformat_minor": 2
}
