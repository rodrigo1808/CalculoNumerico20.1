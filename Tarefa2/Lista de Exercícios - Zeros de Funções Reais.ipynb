{
 "cells": [
  {
   "cell_type": "markdown",
   "metadata": {},
   "source": [
    "# Questão 1\n",
    "Utilize o método da bissecção para encontrar uma solução com precisão de 10−5 para\n",
    "os seguintes problemas:"
   ]
  },
  {
   "cell_type": "code",
   "execution_count": 19,
   "metadata": {},
   "outputs": [
    {
     "data": {
      "text/plain": [
       "bisseccao (generic function with 1 method)"
      ]
     },
     "execution_count": 19,
     "metadata": {},
     "output_type": "execute_result"
    }
   ],
   "source": [
    "function bisseccao(func, a, b, precisao, iteracoes)\n",
    "    neg = a\n",
    "    pos = b\n",
    "    meio = (neg + pos) / 2\n",
    "    i = 0\n",
    "    while (abs(func(meio)) > precisao) && (i < iteracoes)\n",
    "        if(func(neg) * func(meio) < 0)\n",
    "            pos = meio\n",
    "        else\n",
    "            neg = meio\n",
    "        end\n",
    "        \n",
    "        meio = (neg + pos) / 2\n",
    "        i+=1\n",
    "    end\n",
    "    \n",
    "    return meio, \"Número de iterações necessárias = $i\"\n",
    "end"
   ]
  },
  {
   "cell_type": "markdown",
   "metadata": {},
   "source": [
    "## (a)\n",
    "3x − 2^x = 0 para 0 ≤ x ≤ 1"
   ]
  },
  {
   "cell_type": "code",
   "execution_count": 2,
   "metadata": {
    "scrolled": true
   },
   "outputs": [
    {
     "data": {
      "text/plain": [
       "func1 (generic function with 1 method)"
      ]
     },
     "execution_count": 2,
     "metadata": {},
     "output_type": "execute_result"
    }
   ],
   "source": [
    "func1(x) = 3x - 2^x"
   ]
  },
  {
   "cell_type": "code",
   "execution_count": 15,
   "metadata": {
    "scrolled": true
   },
   "outputs": [
    {
     "data": {
      "text/plain": [
       "(0.45782470703125, \"Número de iterações necessárias = 13\")"
      ]
     },
     "execution_count": 15,
     "metadata": {},
     "output_type": "execute_result"
    }
   ],
   "source": [
    "bisseccao(func1, 0, 1, 10e-5, 100)"
   ]
  },
  {
   "cell_type": "markdown",
   "metadata": {},
   "source": [
    "## (b)\n",
    "x cos(x) − 2x^2 + 3x − 1 = 0 para 0.2 ≤ x ≤ 0.3 e 1.2 ≤ x ≤ 1.3."
   ]
  },
  {
   "cell_type": "code",
   "execution_count": 4,
   "metadata": {},
   "outputs": [
    {
     "data": {
      "text/plain": [
       "func2 (generic function with 1 method)"
      ]
     },
     "execution_count": 4,
     "metadata": {},
     "output_type": "execute_result"
    }
   ],
   "source": [
    "func2(x) = x * cos(x) - 2 * x^2 + 3x - 1"
   ]
  },
  {
   "cell_type": "code",
   "execution_count": 5,
   "metadata": {},
   "outputs": [
    {
     "data": {
      "text/plain": [
       "(0.29755859375000004, \"Número de iterações necessárias = 9\")"
      ]
     },
     "execution_count": 5,
     "metadata": {},
     "output_type": "execute_result"
    }
   ],
   "source": [
    "bisseccao(func2, 0.2, 0.3, 10e-5, 100)"
   ]
  },
  {
   "cell_type": "code",
   "execution_count": 6,
   "metadata": {},
   "outputs": [
    {
     "data": {
      "text/plain": [
       "(1.2566406250000002, \"Número de iterações necessárias = 7\")"
      ]
     },
     "execution_count": 6,
     "metadata": {},
     "output_type": "execute_result"
    }
   ],
   "source": [
    "bisseccao(func2, 1.2, 1.3, 10e-5, 100)"
   ]
  },
  {
   "cell_type": "markdown",
   "metadata": {},
   "source": [
    "# Questão 2\n",
    "Encontre o número máximo de iterações necessário para obter, com uma precisão de\n",
    "10^−3, a solução de x^3 + x − 4 = 0 que se encontra no intervalo [1; 2] usando o método\n",
    "da bissecção."
   ]
  },
  {
   "cell_type": "code",
   "execution_count": 7,
   "metadata": {},
   "outputs": [
    {
     "data": {
      "text/plain": [
       "func (generic function with 1 method)"
      ]
     },
     "execution_count": 7,
     "metadata": {},
     "output_type": "execute_result"
    }
   ],
   "source": [
    "func(x) = x^3 + x - 4"
   ]
  },
  {
   "cell_type": "code",
   "execution_count": 8,
   "metadata": {},
   "outputs": [
    {
     "data": {
      "text/plain": [
       "(1.37890625, \"Número de iterações necessárias = 7\")"
      ]
     },
     "execution_count": 8,
     "metadata": {},
     "output_type": "execute_result"
    }
   ],
   "source": [
    "bisseccao(func, 1, 2, 0.01, 100)"
   ]
  },
  {
   "cell_type": "markdown",
   "metadata": {},
   "source": [
    "# Questão 6\n",
    "Considere a função f(x) = (x^2)/2 + x(ln(x) − 1). Obtenha seus pontos críticos com o auxílio de um método para zeros de funções."
   ]
  },
  {
   "cell_type": "markdown",
   "metadata": {},
   "source": [
    "Para encontrar o ponto crítico da função dada, basta encontrar onde a derivada é igual a zero.\n",
    "Por isso mandaremos como parâmetro a derivada de f(x) para a função de bissecção."
   ]
  },
  {
   "cell_type": "code",
   "execution_count": 9,
   "metadata": {},
   "outputs": [
    {
     "data": {
      "text/plain": [
       "derivadadef (generic function with 1 method)"
      ]
     },
     "execution_count": 9,
     "metadata": {},
     "output_type": "execute_result"
    }
   ],
   "source": [
    "derivadadef(x) = x + log(x)"
   ]
  },
  {
   "cell_type": "markdown",
   "metadata": {},
   "source": [
    "Porém ainda é necessário definir o intervalo de início da bissecção.\n",
    "\n",
    "Temos que x tem que ser maior que zero, pois log não tem solução para igual ou menores que zero.\n",
    "Por isso podemos escolher qualquer número maior que zero como o elemento negativo, porém que não seja muito maior para que não ultrapasse onde a derivada é zero.\n",
    "\n",
    "No lado positivo podemos escolher ***1*** pois conhecemos o resultado de log(1) e conseguimos afirmar que a derivada é positiva nesse ponto."
   ]
  },
  {
   "cell_type": "code",
   "execution_count": 10,
   "metadata": {},
   "outputs": [
    {
     "data": {
      "text/plain": [
       "(0.5671432904084213, \"Número de iterações necessárias = 32\")"
      ]
     },
     "execution_count": 10,
     "metadata": {},
     "output_type": "execute_result"
    }
   ],
   "source": [
    "bisseccao(derivadadef, 0.1, 1, 1e-10, 200)"
   ]
  },
  {
   "cell_type": "markdown",
   "metadata": {},
   "source": [
    "# Questão 7\n",
    "A função f(x) = tan(πx) − 6 tem um zero em 1/π arctan(6) ≈ 0.447431543. Use 10 iterações para cada um dos seguintes métodos para calcular o valor aproximado dessa raiz:"
   ]
  },
  {
   "cell_type": "markdown",
   "metadata": {},
   "source": [
    "## (a)"
   ]
  },
  {
   "cell_type": "code",
   "execution_count": 11,
   "metadata": {
    "scrolled": true
   },
   "outputs": [
    {
     "data": {
      "text/plain": [
       "0.9999999999999999"
      ]
     },
     "execution_count": 11,
     "metadata": {},
     "output_type": "execute_result"
    }
   ],
   "source": [
    "tan(π/4)"
   ]
  },
  {
   "cell_type": "code",
   "execution_count": 12,
   "metadata": {},
   "outputs": [
    {
     "data": {
      "text/plain": [
       "func (generic function with 1 method)"
      ]
     },
     "execution_count": 12,
     "metadata": {},
     "output_type": "execute_result"
    }
   ],
   "source": [
    "func(x) = tan(π/x) - 6"
   ]
  },
  {
   "cell_type": "code",
   "execution_count": 18,
   "metadata": {},
   "outputs": [
    {
     "data": {
      "text/plain": [
       "(0.285732421875, \"Número de iterações necessárias = 10\")"
      ]
     },
     "execution_count": 18,
     "metadata": {},
     "output_type": "execute_result"
    }
   ],
   "source": [
    "#Coloquei 0.1 ao invés de 0 para evitar divisão por 0 na função\n",
    "bisseccao(func, 0.1, 0.48, 0, 10)"
   ]
  },
  {
   "cell_type": "markdown",
   "metadata": {},
   "source": [
    "O valor não convergiu para o informado na questão pois existem várias raízes nessa função e nesse caso convergiu para um desses outros zeros."
   ]
  },
  {
   "cell_type": "code",
   "execution_count": null,
   "metadata": {},
   "outputs": [],
   "source": []
  }
 ],
 "metadata": {
  "kernelspec": {
   "display_name": "Julia 1.5.3",
   "language": "julia",
   "name": "julia-1.5"
  },
  "language_info": {
   "file_extension": ".jl",
   "mimetype": "application/julia",
   "name": "julia",
   "version": "1.5.3"
  }
 },
 "nbformat": 4,
 "nbformat_minor": 2
}
